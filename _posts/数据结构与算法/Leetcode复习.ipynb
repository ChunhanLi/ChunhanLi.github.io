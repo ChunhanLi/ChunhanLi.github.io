{
 "cells": [
  {
   "cell_type": "markdown",
   "metadata": {},
   "source": [
    "### 数组类\n",
    "#### 二分法"
   ]
  },
  {
   "cell_type": "code",
   "execution_count": 6,
   "metadata": {
    "ExecuteTime": {
     "end_time": "2020-10-27T14:01:32.472770Z",
     "start_time": "2020-10-27T14:01:32.468769Z"
    }
   },
   "outputs": [],
   "source": [
    "#### 经典二分\n",
    "def search(nums,target):\n",
    "    left,right = 0,len(nums)-1\n",
    "    while right >= left:\n",
    "        mid = (left + right)//2\n",
    "        if nums[mid] == target:\n",
    "            return mid\n",
    "        elif nums[mid] > target:\n",
    "            right = mid -1\n",
    "        else:\n",
    "            left = mid + 1\n",
    "    return -1"
   ]
  },
  {
   "cell_type": "code",
   "execution_count": 35,
   "metadata": {
    "ExecuteTime": {
     "end_time": "2020-10-27T15:40:30.908381Z",
     "start_time": "2020-10-27T15:40:30.904380Z"
    }
   },
   "outputs": [],
   "source": [
    "### 找左边界或者找左边插入位置\n",
    "def left_insert(nums,target):\n",
    "    left,right = 0,len(nums)-1\n",
    "    while right >= left:\n",
    "        mid = (left + right )//2\n",
    "        if nums[mid] >= target:\n",
    "            right = mid - 1\n",
    "        else:\n",
    "            left = mid +1\n",
    "    return left"
   ]
  },
  {
   "cell_type": "code",
   "execution_count": 60,
   "metadata": {
    "ExecuteTime": {
     "end_time": "2020-10-27T16:34:55.304474Z",
     "start_time": "2020-10-27T16:34:55.301473Z"
    }
   },
   "outputs": [],
   "source": [
    "def left_insert(nums,target):\n",
    "    left,right = 0,len(nums)-1\n",
    "    while right >=left:\n",
    "        mid = (left +right)//2\n",
    "        if nums[mid] >= target:\n",
    "            right = mid - 1\n",
    "        else:\n",
    "            left = mid +1\n",
    "    return left"
   ]
  },
  {
   "cell_type": "code",
   "execution_count": 76,
   "metadata": {
    "ExecuteTime": {
     "end_time": "2020-10-27T16:37:29.708607Z",
     "start_time": "2020-10-27T16:37:29.705607Z"
    }
   },
   "outputs": [
    {
     "data": {
      "text/plain": [
       "0"
      ]
     },
     "execution_count": 76,
     "metadata": {},
     "output_type": "execute_result"
    }
   ],
   "source": [
    "left_insert([1,2,3,4,5,6],0)"
   ]
  },
  {
   "cell_type": "code",
   "execution_count": 53,
   "metadata": {
    "ExecuteTime": {
     "end_time": "2020-10-27T15:48:00.339675Z",
     "start_time": "2020-10-27T15:48:00.334674Z"
    }
   },
   "outputs": [],
   "source": [
    "### 需要自己分析下位置\n",
    "### 右边插入位置\n",
    "def right_insert(nums,target):\n",
    "    left,right = 0,len(nums)-1\n",
    "    while right >= left:\n",
    "        mid = (left + right)//2\n",
    "        if nums[mid] <=target:\n",
    "            left = mid +1\n",
    "        else:\n",
    "            right = mid -1\n",
    "    return left\n",
    "### 右边界限\n",
    "def right_max(nums,target):\n",
    "    left,right = 0,len(nums)-1\n",
    "    mid = (left + right)//2\n",
    "    while right >= left:\n",
    "        mid = (left + right)//2\n",
    "        if nums[mid] <=target:\n",
    "            left = mid +1\n",
    "        else:\n",
    "            right = mid -1\n",
    "    return right"
   ]
  },
  {
   "cell_type": "code",
   "execution_count": 81,
   "metadata": {
    "ExecuteTime": {
     "end_time": "2020-10-31T12:40:04.695717Z",
     "start_time": "2020-10-31T12:40:04.693717Z"
    }
   },
   "outputs": [],
   "source": [
    "a = b = 5"
   ]
  },
  {
   "cell_type": "code",
   "execution_count": 82,
   "metadata": {
    "ExecuteTime": {
     "end_time": "2020-10-31T12:40:05.408878Z",
     "start_time": "2020-10-31T12:40:05.404877Z"
    }
   },
   "outputs": [
    {
     "data": {
      "text/plain": [
       "5"
      ]
     },
     "execution_count": 82,
     "metadata": {},
     "output_type": "execute_result"
    }
   ],
   "source": [
    "a"
   ]
  },
  {
   "cell_type": "code",
   "execution_count": 83,
   "metadata": {
    "ExecuteTime": {
     "end_time": "2020-10-31T12:40:06.392099Z",
     "start_time": "2020-10-31T12:40:06.389099Z"
    }
   },
   "outputs": [
    {
     "data": {
      "text/plain": [
       "5"
      ]
     },
     "execution_count": 83,
     "metadata": {},
     "output_type": "execute_result"
    }
   ],
   "source": [
    "b"
   ]
  },
  {
   "cell_type": "code",
   "execution_count": 80,
   "metadata": {
    "ExecuteTime": {
     "end_time": "2020-10-31T12:13:16.241389Z",
     "start_time": "2020-10-31T12:13:16.238389Z"
    }
   },
   "outputs": [
    {
     "data": {
      "text/plain": [
       "3"
      ]
     },
     "execution_count": 80,
     "metadata": {},
     "output_type": "execute_result"
    }
   ],
   "source": [
    "13%10"
   ]
  },
  {
   "cell_type": "code",
   "execution_count": 78,
   "metadata": {
    "ExecuteTime": {
     "end_time": "2020-10-27T16:38:41.339341Z",
     "start_time": "2020-10-27T16:38:41.336340Z"
    }
   },
   "outputs": [
    {
     "data": {
      "text/plain": [
       "8"
      ]
     },
     "execution_count": 78,
     "metadata": {},
     "output_type": "execute_result"
    }
   ],
   "source": [
    "right_insert([1,2,3,4,5,6,6,6],6)"
   ]
  }
 ],
 "metadata": {
  "kernelspec": {
   "display_name": "Python [conda env:tensorflow] *",
   "language": "python",
   "name": "conda-env-tensorflow-py"
  },
  "language_info": {
   "codemirror_mode": {
    "name": "ipython",
    "version": 3
   },
   "file_extension": ".py",
   "mimetype": "text/x-python",
   "name": "python",
   "nbconvert_exporter": "python",
   "pygments_lexer": "ipython3",
   "version": "3.6.10"
  },
  "toc": {
   "base_numbering": 1,
   "nav_menu": {},
   "number_sections": true,
   "sideBar": true,
   "skip_h1_title": false,
   "title_cell": "Table of Contents",
   "title_sidebar": "Contents",
   "toc_cell": false,
   "toc_position": {},
   "toc_section_display": true,
   "toc_window_display": false
  },
  "varInspector": {
   "cols": {
    "lenName": 16,
    "lenType": 16,
    "lenVar": 40
   },
   "kernels_config": {
    "python": {
     "delete_cmd_postfix": "",
     "delete_cmd_prefix": "del ",
     "library": "var_list.py",
     "varRefreshCmd": "print(var_dic_list())"
    },
    "r": {
     "delete_cmd_postfix": ") ",
     "delete_cmd_prefix": "rm(",
     "library": "var_list.r",
     "varRefreshCmd": "cat(var_dic_list()) "
    }
   },
   "types_to_exclude": [
    "module",
    "function",
    "builtin_function_or_method",
    "instance",
    "_Feature"
   ],
   "window_display": false
  }
 },
 "nbformat": 4,
 "nbformat_minor": 4
}
