{
 "cells": [
  {
   "cell_type": "code",
   "execution_count": 1,
   "metadata": {
    "ExecuteTime": {
     "end_time": "2020-10-22T05:55:17.638995Z",
     "start_time": "2020-10-22T05:55:13.348844Z"
    }
   },
   "outputs": [],
   "source": [
    "from scipy.special import erfinv\n",
    "from collections import OrderedDict\n",
    "from math import sqrt\n",
    "import numpy as np"
   ]
  },
  {
   "cell_type": "code",
   "execution_count": 2,
   "metadata": {
    "ExecuteTime": {
     "end_time": "2020-10-22T05:55:17.648967Z",
     "start_time": "2020-10-22T05:55:17.643978Z"
    }
   },
   "outputs": [],
   "source": [
    "def cdfinv(y):\n",
    "    \"\"\"简化的公式，与原NormalCDFInverse等价，且精度更高\n",
    "\n",
    "    公式推导参见https://www.cnblogs.com/htj10/p/8621771.html\n",
    "    \"\"\"\n",
    "    return sqrt(2) * erfinv(2 * y - 1)"
   ]
  },
  {
   "cell_type": "code",
   "execution_count": 3,
   "metadata": {
    "ExecuteTime": {
     "end_time": "2020-10-22T05:55:17.673900Z",
     "start_time": "2020-10-22T05:55:17.653952Z"
    }
   },
   "outputs": [],
   "source": [
    "def rankGaussTrafo(dataIn):\n",
    "    hist = dict()       # hist统计元素的出现频率\n",
    "    for i in dataIn:\n",
    "        if i not in hist:\n",
    "            hist[i] = 1\n",
    "        else:\n",
    "            hist[i] += 1\n",
    "\n",
    "    hist = OrderedDict([t for t in sorted(hist.items(), key=lambda d:d[0])])    # 按照key排序\n",
    "\n",
    "    trafoMap = dict()\n",
    "    if len(hist) == 1:      # unary column: trafo all to 0\n",
    "        trafoMap[list(hist.keys())[0]] = 0.0\n",
    "    elif len(hist) == 2:    # binary column: trafo to 0 / 1\n",
    "        trafoMap[list(hist.keys())[0]] = 0.0\n",
    "        trafoMap[list(hist.keys())[1]] = 1.0\n",
    "    else:                   # more than 2 unique values\n",
    "        mean = 0.0\n",
    "        cnt = 0\n",
    "        N = len(dataIn)\n",
    "\n",
    "        for key, value in hist.items():\n",
    "            rankV = cnt * 1.0 / N       # 累计次数占总次数的比例，取值[0,1]，单调递增（和分布函数F的性质对应）\n",
    "\n",
    "            rankV = rankV * 0.998 + 1e-3    # 注意到cdfinv(0) = -inf，而cdfinv(1) = inf。这个操作使得rankV限制在[0.001,0.999]，而cdfinv(rankV)限制在[-3.09,3.09]，避免了极端情况的发生\n",
    "\n",
    "            scale_factor = 0.7      # 使用0.7可以得到原cpp中的结果，对分布有收缩作用。建议使用1.0，可保持std=1.0\n",
    "            rankV = cdfinv(rankV) * scale_factor     # 将其作为分布函数F的值，逆向求N(0,1)的α分位数\n",
    "\n",
    "            mean += value * rankV   # value是出现次数，乘以rankV。rankV可以看作是value的权重。注意到hist是按key从小到大排序的，排位越后的数对均值的贡献越大\n",
    "            trafoMap[key] = rankV   # 记录为trafoMap的值\n",
    "            cnt += value            # 累计次数\n",
    "        \n",
    "        mean /= N\n",
    "\n",
    "        for key in trafoMap.keys():\n",
    "            trafoMap[key] -= mean   # 每个rankV减去均值，得到最终trafoMap\n",
    "\n",
    "    dataOut = dataIn.copy()\n",
    "    for i in range(len(dataIn)):    # 这里简单地把trafoMap映射到输出\n",
    "        dataOut[i] = trafoMap[dataIn[i]]\n",
    "    return dataOut"
   ]
  },
  {
   "cell_type": "code",
   "execution_count": 4,
   "metadata": {
    "ExecuteTime": {
     "end_time": "2020-10-22T05:55:24.960322Z",
     "start_time": "2020-10-22T05:55:24.220687Z"
    }
   },
   "outputs": [
    {
     "name": "stdout",
     "output_type": "stream",
     "text": [
      "[-0.5517799966896523, 0.4090010366917574, -0.8516215614806684, 0.7725859073647011, 0.6097608726396847, 0.17749425578711678, 0.12237751864416965, -0.042296592392275054, 0.4720838737474867, 0.686977660084494, -0.15498726783224498, 0.9868192248755101, 0.8702983648910773, -2.095563782620048, 0.5386408376293267, -0.09810428241439527, 0.23330194580923708, -0.637388243969859, -1.0013321669392468, -0.21338178582526862, 0.06759883169742091, 0.29018493122708683, 0.012820144750672259, 0.34857944922011036, -0.27380337329691556, -0.4745632092448429, -0.3368862103526449, 1.1365298303340896, -0.4034431742344851, -1.2271028375799966, -0.7351007014962355, 1.362300500974838]\n"
     ]
    }
   ],
   "source": [
    "data = [-19.9378,10.5341,-32.4515,33.0969,24.3530,-1.1830,-1.4106,-4.9431,\n",
    "        14.2153,26.3700,-7.6760,60.3346,36.2992,-126.8806,14.2488,-5.0821,\n",
    "        1.6958,-21.2168,-49.1075,-8.3084,-1.5748,3.7900,-2.1561,4.0756,\n",
    "        -9.0289,-13.9533,-9.8466,79.5876,-13.3332,-111.9568,-24.2531,120.1174]\n",
    "\n",
    "dataOut = rankGaussTrafo(data)\n",
    "print(dataOut)"
   ]
  },
  {
   "cell_type": "code",
   "execution_count": 5,
   "metadata": {
    "ExecuteTime": {
     "end_time": "2020-10-22T05:55:39.497873Z",
     "start_time": "2020-10-22T05:55:39.352261Z"
    }
   },
   "outputs": [
    {
     "name": "stdout",
     "output_type": "stream",
     "text": [
      "[-0.5516841   0.4087162  -0.85175323  0.77257425  0.60961264  0.17727302\n",
      "  0.12224737 -0.04206267  0.4718326   0.6868945  -0.15467337  0.98696357\n",
      "  0.8703632  -2.0957603   0.53843594 -0.09781568  0.23302603 -0.6373639\n",
      " -1.0015435  -0.2130664   0.06760511  0.28988373  0.01296299  0.34827676\n",
      " -0.27350584 -0.4744023  -0.33662227  1.1367539  -0.40322557 -1.2273859\n",
      " -0.73515284  1.3625963 ]\n"
     ]
    }
   ],
   "source": [
    "import numpy as np\n",
    "from collections import Counter, OrderedDict\n",
    "\n",
    "class RGN:\n",
    "    '''Rank Gaussian Normalization'''\n",
    "    def __init__(self, data=None, precision=np.float32):\n",
    "        #data: 1D array or list\n",
    "        self._data = data\n",
    "        self.precision = precision        \n",
    "        self._output = None\n",
    "        if self._data is None:\n",
    "            self._trafo_map = None\n",
    "        else:\n",
    "            self.fit_transform(self._data)\n",
    "    \n",
    "    @property\n",
    "    def data(self):\n",
    "        return self._data\n",
    "    \n",
    "    @property\n",
    "    def output(self):\n",
    "        return self._output\n",
    "    \n",
    "    @property\n",
    "    def precision(self):\n",
    "        return self._precision\n",
    "    \n",
    "    @precision.setter\n",
    "    def precision(self, p):\n",
    "        if not isinstance(p, type):\n",
    "            raise ValueError('precision must be a data type, e.g.: np.float64')\n",
    "        self._precision = p\n",
    "    \n",
    "    def _RationalApproximation(self, t:float)->float: \n",
    "        c = [2.515517, 0.802853, 0.010328]\n",
    "        d = [1.432788, 0.189269, 0.001308]\n",
    "        return t - ((c[2]*t + c[1])*t + c[0]) / (((d[2]*t + d[1])*t + d[0])*t + 1.0)\n",
    "\n",
    "    def _NormalCDFInverse(self, p:float) -> float:\n",
    "\n",
    "        if (p <= 0.0 or p >= 1.0):\n",
    "            raise Exception('0<p<1. The value of p was: {}'.format(p))\n",
    "        if (p < 0.5):\n",
    "            return -self._RationalApproximation(np.sqrt(-2.0*np.log(p)) )\n",
    "        return self._RationalApproximation( np.sqrt(-2.0*np.log(1-p)) )\n",
    "\n",
    "    def _vdErfInvSingle01(self, x:float) -> float:\n",
    "        if x == 0:\n",
    "            return 0\n",
    "        elif x < 0:\n",
    "            return -self._NormalCDFInverse(-x)*0.7\n",
    "        else:\n",
    "            return self._NormalCDFInverse(x)*0.7\n",
    "    \n",
    "    def fit_transform(self, dataIn:list) -> dict:\n",
    "        self.fit(dataIn)\n",
    "        return self.transform(dataIn)\n",
    "\n",
    "    def fit(self, dataIn:list):\n",
    "        self._data = dataIn\n",
    "        trafoMap = OrderedDict()\n",
    "        hist = Counter(dataIn)\n",
    "        if len(hist) == 0:\n",
    "            pass\n",
    "        elif len(hist) == 1:\n",
    "            key = list(hist.keys())[0]\n",
    "            trafoMap[key] = 0.0\n",
    "        elif len(hist) == 2:\n",
    "            keys = sorted(list(hist.keys()))\n",
    "            trafoMap[keys[0]] = 0.0\n",
    "            trafoMap[keys[1]] = 1.0\n",
    "        else:\n",
    "            N = cnt = 0\n",
    "            for it in hist:\n",
    "                N += hist[it]\n",
    "            assert (N == len(dataIn))\n",
    "            mean = 0.0\n",
    "            for it in sorted(list(hist.keys())):\n",
    "                rankV = cnt / N\n",
    "                rankV = rankV * 0.998 + 1e-3\n",
    "                rankV = self._vdErfInvSingle01(rankV)\n",
    "                assert(rankV >= -3.0 and rankV <= 3.0)\n",
    "                mean += hist[it] * rankV\n",
    "                trafoMap[it] = rankV\n",
    "                cnt += hist[it]\n",
    "            mean /= N\n",
    "            for it in trafoMap:\n",
    "                trafoMap[it] -= mean\n",
    "        self._trafo_map = trafoMap\n",
    "        return \n",
    "\n",
    "    def _binary_search(self, keys, val):\n",
    "        start, end = 0, len(keys)-1\n",
    "        while start+1 < end:\n",
    "            mid = (start + end) // 2\n",
    "            if val < keys[mid]:\n",
    "                end = mid\n",
    "            else:\n",
    "                start = mid\n",
    "        return keys[start], keys[end]\n",
    "\n",
    "    def transform(self, dataIn:list) -> dict:\n",
    "        dataOut = []\n",
    "        trafoMap = self._trafo_map\n",
    "        keys = list(trafoMap.keys())\n",
    "        if len(keys) == 0:\n",
    "            raise Exception('No transfermation map')\n",
    "        for i in range(len(dataIn)):\n",
    "            val = dataIn[i]\n",
    "            trafoVal = 0.0\n",
    "            if val <= keys[0]:\n",
    "                trafoVal = trafoMap[keys[0]]\n",
    "            elif val >= keys[-1]:\n",
    "                trafoVal = trafoMap[keys[-1]]\n",
    "            elif val in trafoMap:\n",
    "                trafoVal = trafoMap[val]\n",
    "            else:\n",
    "                lower_key, upper_key = self._binary_search(keys, val)\n",
    "                x1, y1 = lower_key, trafoMap[lower_key]\n",
    "                x2, y2 = upper_key, trafoMap[upper_key]\n",
    "\n",
    "                trafoVal = y1 + (val - x1) * (y2 - y1) / (x2 - x1)\n",
    "            dataOut.append(trafoVal)\n",
    "        dataOut = np.asarray(dataOut, dtype=self.precision)\n",
    "        self._output = dataOut\n",
    "        return self._output  \n",
    "\n",
    "if __name__ == '__main__':\n",
    "    data = [-19.9378,10.5341,-32.4515,33.0969,24.3530,-1.1830,-1.4106,-4.9431,\n",
    "        14.2153,26.3700,-7.6760,60.3346,36.2992,-126.8806,14.2488,-5.0821,\n",
    "        1.6958,-21.2168,-49.1075,-8.3084,-1.5748,3.7900,-2.1561,4.0756,\n",
    "        -9.0289,-13.9533,-9.8466,79.5876,-13.3332,-111.9568,-24.2531,120.1174]\n",
    "    rgn = RGN(data)\n",
    "    print(rgn.output)"
   ]
  },
  {
   "cell_type": "code",
   "execution_count": 7,
   "metadata": {
    "ExecuteTime": {
     "end_time": "2020-10-22T05:56:19.270272Z",
     "start_time": "2020-10-22T05:56:19.248367Z"
    }
   },
   "outputs": [
    {
     "data": {
      "text/plain": [
       "array([-0.5516841 ,  0.4087162 , -0.85175323,  0.77257425,  0.60961264,\n",
       "        0.17727302,  0.12224737, -0.04206267,  0.4718326 ,  0.6868945 ,\n",
       "       -0.15467337,  0.98696357,  0.8703632 , -2.0957603 ,  0.53843594,\n",
       "       -0.09781568,  0.23302603, -0.6373639 , -1.0015435 , -0.2130664 ,\n",
       "        0.06760511,  0.28988373,  0.01296299,  0.34827676, -0.27350584,\n",
       "       -0.4744023 , -0.33662227,  1.1367539 , -0.40322557, -1.2273859 ,\n",
       "       -0.73515284,  1.3625963 ], dtype=float32)"
      ]
     },
     "execution_count": 7,
     "metadata": {},
     "output_type": "execute_result"
    }
   ],
   "source": [
    "rank_gauss = RGN()\n",
    "rank_gauss.fit_transform(data)"
   ]
  },
  {
   "cell_type": "code",
   "execution_count": 8,
   "metadata": {
    "ExecuteTime": {
     "end_time": "2020-10-22T05:58:28.356905Z",
     "start_time": "2020-10-22T05:58:23.484484Z"
    }
   },
   "outputs": [],
   "source": [
    "from sklearn.preprocessing import QuantileTransformer"
   ]
  },
  {
   "cell_type": "code",
   "execution_count": 9,
   "metadata": {
    "ExecuteTime": {
     "end_time": "2020-10-22T05:58:29.777221Z",
     "start_time": "2020-10-22T05:58:29.763260Z"
    }
   },
   "outputs": [],
   "source": [
    "QuantileTransformer?"
   ]
  }
 ],
 "metadata": {
  "kernelspec": {
   "display_name": "Python 3",
   "language": "python",
   "name": "python3"
  },
  "language_info": {
   "codemirror_mode": {
    "name": "ipython",
    "version": 3
   },
   "file_extension": ".py",
   "mimetype": "text/x-python",
   "name": "python",
   "nbconvert_exporter": "python",
   "pygments_lexer": "ipython3",
   "version": "3.7.2"
  },
  "toc": {
   "base_numbering": 1,
   "nav_menu": {},
   "number_sections": true,
   "sideBar": true,
   "skip_h1_title": false,
   "title_cell": "Table of Contents",
   "title_sidebar": "Contents",
   "toc_cell": false,
   "toc_position": {},
   "toc_section_display": true,
   "toc_window_display": false
  }
 },
 "nbformat": 4,
 "nbformat_minor": 2
}
