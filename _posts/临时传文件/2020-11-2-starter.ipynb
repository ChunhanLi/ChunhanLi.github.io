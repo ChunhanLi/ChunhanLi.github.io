{
 "cells": [
  {
   "cell_type": "code",
   "execution_count": 67,
   "metadata": {
    "ExecuteTime": {
     "end_time": "2020-11-04T09:57:52.682027Z",
     "start_time": "2020-11-04T09:57:52.672053Z"
    }
   },
   "outputs": [],
   "source": [
    "import pandas as pd\n",
    "import numpy as np\n",
    "import numpy as np\n",
    "import pandas as pd\n",
    "import matplotlib.pyplot as plt \n",
    "from sklearn import preprocessing\n",
    "from sklearn.preprocessing import LabelEncoder\n",
    "import catboost as cb\n",
    "import lightgbm as lgb\n",
    "from sklearn.ensemble import RandomForestClassifier\n",
    "from sklearn.model_selection import GridSearchCV, ShuffleSplit,StratifiedKFold,TimeSeriesSplit,KFold,GroupKFold,train_test_split,GroupShuffleSplit,StratifiedShuffleSplit\n",
    "from sklearn.metrics import roc_auc_score,mean_squared_error,mean_absolute_error,log_loss,confusion_matrix,accuracy_score,cohen_kappa_score\n",
    "import xgboost as xgb\n",
    "import datetime\n",
    "from sklearn.linear_model import LogisticRegression\n",
    "from scipy.stats import pearsonr\n",
    "import gc\n",
    "from sklearn.model_selection import TimeSeriesSplit\n",
    "#from bayes_opt import BayesianOptimization\n",
    "import re\n",
    "from string import punctuation\n",
    "from scipy.spatial import Voronoi\n",
    "from scipy.spatial import ConvexHull\n",
    "from scipy.spatial import Delaunay\n",
    "from tqdm.notebook import tqdm\n",
    "#from numba import jit\n",
    "from collections import Counter\n",
    "import json\n",
    "import joblib\n",
    "import multiprocessing\n",
    "import time\n",
    "# import keras\n",
    "from sklearn.preprocessing import StandardScaler,OneHotEncoder\n",
    "# from gensim.models import Word2Vec\n",
    "# from keras.preprocessing.text import Tokenizer, text_to_word_sequence\n",
    "# from keras.preprocessing.sequence import pad_sequences\n",
    "# import keras.backend as K\n",
    "# from keras import models\n",
    "# from keras import layers\n",
    "# from keras.layers import *\n",
    "# from keras.models import *\n",
    "# from keras.callbacks import *\n",
    "# import math \n",
    "# import logging\n",
    "# from scipy.sparse import csr_matrix,hstack\n",
    "# import scipy\n",
    "# pd.set_option('display.max_rows', 100)\n",
    "pd.set_option('display.max_columns', 25)\n",
    "\n",
    "# pd.set_option('max_columns', None)\n",
    "# pd.set_option('max_rows', 300)\n",
    "# pd.set_option('max_colwidth', 200)"
   ]
  },
  {
   "cell_type": "code",
   "execution_count": 68,
   "metadata": {
    "ExecuteTime": {
     "end_time": "2020-11-04T09:57:52.836815Z",
     "start_time": "2020-11-04T09:57:52.832840Z"
    }
   },
   "outputs": [],
   "source": [
    "import optuna"
   ]
  },
  {
   "cell_type": "code",
   "execution_count": 69,
   "metadata": {
    "ExecuteTime": {
     "end_time": "2020-11-04T09:57:56.629375Z",
     "start_time": "2020-11-04T09:57:53.004074Z"
    }
   },
   "outputs": [],
   "source": [
    "cust_avli_q3 = pd.read_csv('../raw_data/x_train/cust_avli_Q3.csv')\n",
    "cust_avli_q4 = pd.read_csv('../raw_data/x_train/cust_avli_Q4.csv')\n",
    "cust_info_q3 = pd.read_csv('../raw_data/x_train/cust_info_q3.csv')\n",
    "cust_info_q4 = pd.read_csv('../raw_data/x_train/cust_info_q4.csv')\n",
    "\n",
    "cust_avli_q1 = pd.read_csv('../raw_data/x_test/cust_avli_Q1.csv')\n",
    "cust_info_q1 = pd.read_csv('../raw_data/x_test/cust_info_q1.csv')"
   ]
  },
  {
   "cell_type": "code",
   "execution_count": 70,
   "metadata": {
    "ExecuteTime": {
     "end_time": "2020-11-04T09:57:56.715162Z",
     "start_time": "2020-11-04T09:57:56.633329Z"
    }
   },
   "outputs": [],
   "source": [
    "y_train_q3 = pd.read_csv('../raw_data/y_train_3/y_Q3_3.csv')\n",
    "y_train_q4 = pd.read_csv('../raw_data/y_train_3/y_Q4_3.csv')"
   ]
  },
  {
   "cell_type": "code",
   "execution_count": null,
   "metadata": {},
   "outputs": [],
   "source": []
  },
  {
   "cell_type": "markdown",
   "metadata": {},
   "source": [
    " -  cust_avli _Q(Z) 代表第 Z 季度的有效客户 仅有 cust_no 好像没啥用"
   ]
  },
  {
   "cell_type": "code",
   "execution_count": 71,
   "metadata": {
    "ExecuteTime": {
     "end_time": "2020-11-04T09:57:56.722096Z",
     "start_time": "2020-11-04T09:57:56.717105Z"
    }
   },
   "outputs": [
    {
     "name": "stdout",
     "output_type": "stream",
     "text": [
      "q3 (69126, 1)\n",
      "q4 (76170, 1)\n",
      "q1 (76722, 1)\n"
     ]
    }
   ],
   "source": [
    "print('q3',cust_avli_q3.shape)\n",
    "print('q4',cust_avli_q4.shape)\n",
    "print('q1',cust_avli_q1.shape)"
   ]
  },
  {
   "cell_type": "code",
   "execution_count": 72,
   "metadata": {
    "ExecuteTime": {
     "end_time": "2020-11-04T09:57:58.177213Z",
     "start_time": "2020-11-04T09:57:56.729073Z"
    }
   },
   "outputs": [
    {
     "name": "stdout",
     "output_type": "stream",
     "text": [
      "(69126, 21)\n",
      "(76170, 21)\n",
      "(76722, 21)\n"
     ]
    }
   ],
   "source": [
    "cust_info_q3 = cust_info_q3.merge(cust_avli_q3,how='inner',on='cust_no')\n",
    "print(cust_info_q3.shape)\n",
    "cust_info_q4 = cust_info_q4.merge(cust_avli_q4,how='inner',on='cust_no')\n",
    "print(cust_info_q4.shape)\n",
    "cust_info_q1 = cust_info_q1.merge(cust_avli_q1,how='inner',on='cust_no')\n",
    "print(cust_info_q1.shape)"
   ]
  },
  {
   "cell_type": "code",
   "execution_count": 73,
   "metadata": {
    "ExecuteTime": {
     "end_time": "2020-11-04T09:58:01.643777Z",
     "start_time": "2020-11-04T09:57:58.185167Z"
    }
   },
   "outputs": [
    {
     "name": "stderr",
     "output_type": "stream",
     "text": [
      "E:\\software\\ANACONDA3\\lib\\site-packages\\IPython\\core\\interactiveshell.py:3020: DtypeWarning:\n",
      "\n",
      "Columns (9) have mixed types.Specify dtype option on import or set low_memory=False.\n",
      "\n"
     ]
    }
   ],
   "source": [
    "big_event_Q3 = pd.read_csv('../raw_data/x_train/big_event_train/big_event_Q3.csv')\n",
    "big_event_Q4 = pd.read_csv('../raw_data/x_train/big_event_train/big_event_Q4.csv')\n",
    "big_event_Q1 = pd.read_csv('../raw_data/x_test/big_event_test/big_event_Q1.csv')"
   ]
  },
  {
   "cell_type": "code",
   "execution_count": 74,
   "metadata": {
    "ExecuteTime": {
     "end_time": "2020-11-04T09:58:03.262408Z",
     "start_time": "2020-11-04T09:58:01.647726Z"
    }
   },
   "outputs": [
    {
     "name": "stdout",
     "output_type": "stream",
     "text": [
      "(69126, 19)\n",
      "(76170, 19)\n",
      "(76722, 19)\n"
     ]
    }
   ],
   "source": [
    "big_event_Q3 = big_event_Q3.merge(cust_avli_q3,how='inner',on='cust_no')\n",
    "print(big_event_Q3.shape)\n",
    "big_event_Q4 = big_event_Q4.merge(cust_avli_q4,how='inner',on='cust_no')\n",
    "print(big_event_Q4.shape)\n",
    "big_event_Q1 = big_event_Q1.merge(cust_avli_q1,how='inner',on='cust_no')\n",
    "print(big_event_Q1.shape)"
   ]
  },
  {
   "cell_type": "code",
   "execution_count": 75,
   "metadata": {
    "ExecuteTime": {
     "end_time": "2020-11-04T09:58:03.498801Z",
     "start_time": "2020-11-04T09:58:03.267393Z"
    }
   },
   "outputs": [
    {
     "name": "stdout",
     "output_type": "stream",
     "text": [
      "(69126, 21)\n",
      "(76170, 21)\n",
      "(76722, 21)\n"
     ]
    }
   ],
   "source": [
    "cust_info_q3 = cust_info_q3.merge(cust_avli_q3,how='inner',on='cust_no')\n",
    "print(cust_info_q3.shape)\n",
    "cust_info_q4 = cust_info_q4.merge(cust_avli_q4,how='inner',on='cust_no')\n",
    "print(cust_info_q4.shape)\n",
    "cust_info_q1 = cust_info_q1.merge(cust_avli_q1,how='inner',on='cust_no')\n",
    "print(cust_info_q1.shape)"
   ]
  },
  {
   "cell_type": "code",
   "execution_count": 76,
   "metadata": {
    "ExecuteTime": {
     "end_time": "2020-11-04T09:58:07.256759Z",
     "start_time": "2020-11-04T09:58:03.503761Z"
    }
   },
   "outputs": [],
   "source": [
    "aum_m7 = pd.read_csv('../raw_data/x_train/aum_train/aum_m7.csv') \n",
    "aum_m8 = pd.read_csv('../raw_data/x_train/aum_train/aum_m8.csv')\n",
    "aum_m9 = pd.read_csv('../raw_data/x_train/aum_train/aum_m9.csv')\n",
    "aum_m10 = pd.read_csv('../raw_data/x_train/aum_train/aum_m10.csv')\n",
    "aum_m11 = pd.read_csv('../raw_data/x_train/aum_train/aum_m11.csv')\n",
    "aum_m12 = pd.read_csv('../raw_data/x_train/aum_train/aum_m12.csv')\n",
    "aum_m1 = pd.read_csv('../raw_data/x_test/aum_test/aum_m1.csv')\n",
    "aum_m2 = pd.read_csv('../raw_data/x_test/aum_test/aum_m2.csv')\n",
    "aum_m3 =pd.read_csv('../raw_data/x_test/aum_test/aum_m3.csv')"
   ]
  },
  {
   "cell_type": "code",
   "execution_count": 77,
   "metadata": {
    "ExecuteTime": {
     "end_time": "2020-11-04T09:58:10.161953Z",
     "start_time": "2020-11-04T09:58:07.258754Z"
    }
   },
   "outputs": [
    {
     "name": "stdout",
     "output_type": "stream",
     "text": [
      "all avli q3 69126\n",
      "m7 65135\n",
      "m8 67276\n",
      "m9 69126\n",
      "all avli q4 76170\n",
      "m10 71496\n",
      "m11 73931\n",
      "m12 76170\n",
      "all avli q1 76722\n",
      "m1 76722\n",
      "m2 76722\n",
      "m3 76722\n"
     ]
    }
   ],
   "source": [
    "print('all avli q3',cust_avli_q3.shape[0])\n",
    "aum_m7 = aum_m7.merge(cust_avli_q3,how='inner',on = 'cust_no')\n",
    "print('m7',aum_m7.shape[0])\n",
    "aum_m8 = aum_m8.merge(cust_avli_q3,how='inner',on = 'cust_no')\n",
    "print('m8',aum_m8.shape[0])\n",
    "aum_m9 = aum_m9.merge(cust_avli_q3,how='inner',on = 'cust_no')\n",
    "print('m9',aum_m9.shape[0])\n",
    "print('all avli q4',cust_avli_q4.shape[0])\n",
    "aum_m10 = aum_m10.merge(cust_avli_q4,how='inner',on = 'cust_no')\n",
    "print('m10',aum_m10.shape[0])\n",
    "aum_m11 = aum_m11.merge(cust_avli_q4,how='inner',on = 'cust_no')\n",
    "print('m11',aum_m11.shape[0])\n",
    "aum_m12 = aum_m12.merge(cust_avli_q4,how='inner',on = 'cust_no')\n",
    "print('m12',aum_m12.shape[0])\n",
    "print('all avli q1',cust_avli_q1.shape[0])\n",
    "aum_m1 = aum_m1.merge(cust_avli_q1,how='inner',on = 'cust_no')\n",
    "print('m1',aum_m1.shape[0])\n",
    "aum_m2 = aum_m2.merge(cust_avli_q1,how='inner',on = 'cust_no')\n",
    "print('m2',aum_m2.shape[0])\n",
    "aum_m3 = aum_m3.merge(cust_avli_q1,how='inner',on = 'cust_no')\n",
    "print('m3',aum_m3.shape[0])"
   ]
  },
  {
   "cell_type": "code",
   "execution_count": 78,
   "metadata": {
    "ExecuteTime": {
     "end_time": "2020-11-04T09:58:13.468345Z",
     "start_time": "2020-11-04T09:58:10.164971Z"
    }
   },
   "outputs": [],
   "source": [
    "behavior_m7 = pd.read_csv('../raw_data/x_train/behavior_train/behavior_m7.csv') \n",
    "behavior_m8 = pd.read_csv('../raw_data/x_train/behavior_train/behavior_m8.csv')\n",
    "behavior_m9 = pd.read_csv('../raw_data/x_train/behavior_train/behavior_m9.csv')\n",
    "behavior_m10 = pd.read_csv('../raw_data/x_train/behavior_train/behavior_m10.csv')\n",
    "behavior_m11 = pd.read_csv('../raw_data/x_train/behavior_train/behavior_m11.csv')\n",
    "behavior_m12 = pd.read_csv('../raw_data/x_train/behavior_train/behavior_m12.csv')\n",
    "behavior_m1 = pd.read_csv('../raw_data/x_test/behavior_test/behavior_m1.csv')\n",
    "behavior_m2 = pd.read_csv('../raw_data/x_test/behavior_test/behavior_m2.csv')\n",
    "behavior_m3 =pd.read_csv('../raw_data/x_test/behavior_test/behavior_m3.csv')"
   ]
  },
  {
   "cell_type": "code",
   "execution_count": 79,
   "metadata": {
    "ExecuteTime": {
     "end_time": "2020-11-04T09:58:16.542884Z",
     "start_time": "2020-11-04T09:58:13.471139Z"
    }
   },
   "outputs": [
    {
     "name": "stdout",
     "output_type": "stream",
     "text": [
      "all avli q3 69126\n",
      "m7 65135\n",
      "m8 67276\n",
      "m9 69126\n",
      "all avli q4 76170\n",
      "m10 71496\n",
      "m11 73931\n",
      "m12 76170\n",
      "all avli q1 76722\n",
      "m1 76722\n",
      "m2 76722\n",
      "m3 76722\n"
     ]
    }
   ],
   "source": [
    "print('all avli q3',cust_avli_q3.shape[0])\n",
    "behavior_m7 = behavior_m7.merge(cust_avli_q3,how='inner',on = 'cust_no')\n",
    "print('m7',behavior_m7.shape[0])\n",
    "behavior_m8 = behavior_m8.merge(cust_avli_q3,how='inner',on = 'cust_no')\n",
    "print('m8',behavior_m8.shape[0])\n",
    "behavior_m9 = behavior_m9.merge(cust_avli_q3,how='inner',on = 'cust_no')\n",
    "print('m9',behavior_m9.shape[0])\n",
    "print('all avli q4',cust_avli_q4.shape[0])\n",
    "behavior_m10 = behavior_m10.merge(cust_avli_q4,how='inner',on = 'cust_no')\n",
    "print('m10',behavior_m10.shape[0])\n",
    "behavior_m11 = behavior_m11.merge(cust_avli_q4,how='inner',on = 'cust_no')\n",
    "print('m11',behavior_m11.shape[0])\n",
    "behavior_m12 = behavior_m12.merge(cust_avli_q4,how='inner',on = 'cust_no')\n",
    "print('m12',behavior_m12.shape[0])\n",
    "print('all avli q1',cust_avli_q1.shape[0])\n",
    "behavior_m1 = behavior_m1.merge(cust_avli_q1,how='inner',on = 'cust_no')\n",
    "print('m1',behavior_m1.shape[0])\n",
    "behavior_m2 = behavior_m2.merge(cust_avli_q1,how='inner',on = 'cust_no')\n",
    "print('m2',behavior_m2.shape[0])\n",
    "behavior_m3 = behavior_m3.merge(cust_avli_q1,how='inner',on = 'cust_no')\n",
    "print('m3',behavior_m3.shape[0])"
   ]
  },
  {
   "cell_type": "code",
   "execution_count": 80,
   "metadata": {
    "ExecuteTime": {
     "end_time": "2020-11-04T09:58:16.709439Z",
     "start_time": "2020-11-04T09:58:16.545876Z"
    }
   },
   "outputs": [],
   "source": [
    "behavior_m3['B6'] = pd.to_datetime(behavior_m3['B6'])\n",
    "behavior_m9['B6'] = pd.to_datetime(behavior_m9['B6'])\n",
    "behavior_m12['B6'] = pd.to_datetime(behavior_m12['B6'])"
   ]
  },
  {
   "cell_type": "code",
   "execution_count": 81,
   "metadata": {
    "ExecuteTime": {
     "end_time": "2020-11-04T09:58:16.738404Z",
     "start_time": "2020-11-04T09:58:16.715434Z"
    }
   },
   "outputs": [],
   "source": [
    "behavior_m3['diff_last_trans'] = (pd.to_datetime('2020-04-01 00:00:00') - behavior_m3['B6']).dt.days\n",
    "behavior_m9['diff_last_trans'] = (pd.to_datetime('2019-10-01 00:00:00') - behavior_m9['B6']).dt.days\n",
    "behavior_m12['diff_last_trans'] = (pd.to_datetime('2020-01-01 00:00:00') - behavior_m12['B6']).dt.days"
   ]
  },
  {
   "cell_type": "code",
   "execution_count": 82,
   "metadata": {
    "ExecuteTime": {
     "end_time": "2020-11-04T09:58:16.768283Z",
     "start_time": "2020-11-04T09:58:16.752326Z"
    }
   },
   "outputs": [
    {
     "data": {
      "text/plain": [
       "count    63293.000000\n",
       "mean        20.836017\n",
       "std         24.058841\n",
       "min          0.000000\n",
       "25%          3.000000\n",
       "50%         11.000000\n",
       "75%         28.000000\n",
       "max         90.000000\n",
       "Name: diff_last_trans, dtype: float64"
      ]
     },
     "execution_count": 82,
     "metadata": {},
     "output_type": "execute_result"
    }
   ],
   "source": [
    "behavior_m3['diff_last_trans'].describe()"
   ]
  },
  {
   "cell_type": "code",
   "execution_count": 83,
   "metadata": {
    "ExecuteTime": {
     "end_time": "2020-11-04T09:58:16.800223Z",
     "start_time": "2020-11-04T09:58:16.783243Z"
    }
   },
   "outputs": [
    {
     "data": {
      "text/plain": [
       "count    64179.000000\n",
       "mean        30.827264\n",
       "std         44.650686\n",
       "min          0.000000\n",
       "25%          3.000000\n",
       "50%         11.000000\n",
       "75%         39.000000\n",
       "max        219.000000\n",
       "Name: diff_last_trans, dtype: float64"
      ]
     },
     "execution_count": 83,
     "metadata": {},
     "output_type": "execute_result"
    }
   ],
   "source": [
    "behavior_m9['diff_last_trans'].describe()"
   ]
  },
  {
   "cell_type": "code",
   "execution_count": 84,
   "metadata": {
    "ExecuteTime": {
     "end_time": "2020-11-04T09:58:16.818151Z",
     "start_time": "2020-11-04T09:58:16.802192Z"
    }
   },
   "outputs": [
    {
     "data": {
      "text/plain": [
       "count    72239.000000\n",
       "mean        36.911710\n",
       "std         55.853151\n",
       "min          0.000000\n",
       "25%          3.000000\n",
       "50%         13.000000\n",
       "75%         47.000000\n",
       "max        311.000000\n",
       "Name: diff_last_trans, dtype: float64"
      ]
     },
     "execution_count": 84,
     "metadata": {},
     "output_type": "execute_result"
    }
   ],
   "source": [
    "behavior_m12['diff_last_trans'].describe()"
   ]
  },
  {
   "cell_type": "code",
   "execution_count": null,
   "metadata": {},
   "outputs": [],
   "source": []
  },
  {
   "cell_type": "code",
   "execution_count": 85,
   "metadata": {
    "ExecuteTime": {
     "end_time": "2020-11-04T09:58:16.831113Z",
     "start_time": "2020-11-04T09:58:16.820154Z"
    }
   },
   "outputs": [
    {
     "data": {
      "text/plain": [
       "max   2020-03-31 23:59:00\n",
       "min   2020-01-01 00:11:00\n",
       "Name: B6, dtype: datetime64[ns]"
      ]
     },
     "execution_count": 85,
     "metadata": {},
     "output_type": "execute_result"
    }
   ],
   "source": [
    "behavior_m3.B6.agg(['max','min'])"
   ]
  },
  {
   "cell_type": "code",
   "execution_count": 86,
   "metadata": {
    "ExecuteTime": {
     "end_time": "2020-11-04T09:58:16.846075Z",
     "start_time": "2020-11-04T09:58:16.833109Z"
    }
   },
   "outputs": [
    {
     "data": {
      "text/plain": [
       "max   2019-09-30 23:59:00\n",
       "min   2019-02-23 02:31:00\n",
       "Name: B6, dtype: datetime64[ns]"
      ]
     },
     "execution_count": 86,
     "metadata": {},
     "output_type": "execute_result"
    }
   ],
   "source": [
    "behavior_m9.B6.agg(['max','min'])"
   ]
  },
  {
   "cell_type": "code",
   "execution_count": 87,
   "metadata": {
    "ExecuteTime": {
     "end_time": "2020-11-04T09:58:16.860038Z",
     "start_time": "2020-11-04T09:58:16.850063Z"
    }
   },
   "outputs": [
    {
     "data": {
      "text/plain": [
       "max   2019-12-31 23:34:00\n",
       "min   2019-02-23 02:31:00\n",
       "Name: B6, dtype: datetime64[ns]"
      ]
     },
     "execution_count": 87,
     "metadata": {},
     "output_type": "execute_result"
    }
   ],
   "source": [
    "behavior_m12.B6.agg(['max','min'])"
   ]
  },
  {
   "cell_type": "code",
   "execution_count": 88,
   "metadata": {
    "ExecuteTime": {
     "end_time": "2020-11-04T09:58:16.884968Z",
     "start_time": "2020-11-04T09:58:16.863029Z"
    }
   },
   "outputs": [
    {
     "data": {
      "text/plain": [
       "3.0    48817\n",
       "NaN    13429\n",
       "1.0     7849\n",
       "2.0     6627\n",
       "Name: B6, dtype: int64"
      ]
     },
     "execution_count": 88,
     "metadata": {},
     "output_type": "execute_result"
    }
   ],
   "source": [
    "behavior_m3.B6.dt.month.value_counts(dropna=False)"
   ]
  },
  {
   "cell_type": "code",
   "execution_count": 89,
   "metadata": {
    "ExecuteTime": {
     "end_time": "2020-11-04T09:58:16.906930Z",
     "start_time": "2020-11-04T09:58:16.886963Z"
    }
   },
   "outputs": [
    {
     "data": {
      "text/plain": [
       "9.0    45325\n",
       "8.0     7136\n",
       "7.0     5024\n",
       "NaN     4947\n",
       "6.0     2498\n",
       "5.0     1961\n",
       "4.0     1099\n",
       "3.0     1002\n",
       "2.0      134\n",
       "Name: B6, dtype: int64"
      ]
     },
     "execution_count": 89,
     "metadata": {},
     "output_type": "execute_result"
    }
   ],
   "source": [
    "behavior_m9.B6.dt.month.value_counts(dropna=False)"
   ]
  },
  {
   "cell_type": "code",
   "execution_count": 90,
   "metadata": {
    "ExecuteTime": {
     "end_time": "2020-11-04T09:58:16.932844Z",
     "start_time": "2020-11-04T09:58:16.915886Z"
    }
   },
   "outputs": [
    {
     "data": {
      "text/plain": [
       "12.0    49747\n",
       "11.0     7879\n",
       "10.0     5352\n",
       "NaN      3931\n",
       "9.0      3013\n",
       "8.0      1624\n",
       "7.0      1494\n",
       "6.0      1130\n",
       "5.0      1107\n",
       "4.0       579\n",
       "3.0       268\n",
       "2.0        46\n",
       "Name: B6, dtype: int64"
      ]
     },
     "execution_count": 90,
     "metadata": {},
     "output_type": "execute_result"
    }
   ],
   "source": [
    "behavior_m12.B6.dt.month.value_counts(dropna=False)"
   ]
  },
  {
   "cell_type": "code",
   "execution_count": null,
   "metadata": {},
   "outputs": [],
   "source": []
  },
  {
   "cell_type": "code",
   "execution_count": 91,
   "metadata": {
    "ExecuteTime": {
     "end_time": "2020-11-04T09:58:17.094443Z",
     "start_time": "2020-11-04T09:58:16.940820Z"
    }
   },
   "outputs": [],
   "source": [
    "for df in [behavior_m1,behavior_m2,behavior_m3,behavior_m7,behavior_m8,behavior_m9,behavior_m10,behavior_m11,behavior_m12]:\n",
    "    ###平均转入金额\n",
    "    df['B3-div-B2'] = df['B3']/df['B2']\n",
    "    ### 平均转出金额\n",
    "    df['B5-div-B4'] = df['B5']/df['B4']\n",
    "    ### 转入/转出次数的差/商\n",
    "    df['B3-div-B5'] = df['B3']/df['B5']\n",
    "    df['B3-diff-B5'] = df['B3'] - df['B5']\n",
    "    ### 转入/转出金额的差/商\n",
    "    df['B2-div-B4'] = df['B2']/df['B4']\n",
    "    df['B2-diff-B4'] = df['B2'] - df['B4']"
   ]
  },
  {
   "cell_type": "code",
   "execution_count": 92,
   "metadata": {
    "ExecuteTime": {
     "end_time": "2020-11-04T09:58:17.157240Z",
     "start_time": "2020-11-04T09:58:17.097428Z"
    }
   },
   "outputs": [],
   "source": [
    "####为了简便\n",
    "for table in [behavior_m3,behavior_m9,behavior_m12]:\n",
    "    table.drop(['B6'],axis=1,inplace=True)"
   ]
  },
  {
   "cell_type": "code",
   "execution_count": 93,
   "metadata": {
    "ExecuteTime": {
     "end_time": "2020-11-04T09:58:18.558728Z",
     "start_time": "2020-11-04T09:58:17.160233Z"
    }
   },
   "outputs": [],
   "source": [
    "cunkuan_m7 = pd.read_csv('../raw_data/x_train/cunkuan_train/cunkuan_m7.csv') \n",
    "cunkuan_m8 = pd.read_csv('../raw_data/x_train/cunkuan_train/cunkuan_m8.csv')\n",
    "cunkuan_m9 = pd.read_csv('../raw_data/x_train/cunkuan_train/cunkuan_m9.csv')\n",
    "cunkuan_m10 = pd.read_csv('../raw_data/x_train/cunkuan_train/cunkuan_m10.csv')\n",
    "cunkuan_m11 = pd.read_csv('../raw_data/x_train/cunkuan_train/cunkuan_m11.csv')\n",
    "cunkuan_m12 = pd.read_csv('../raw_data/x_train/cunkuan_train/cunkuan_m12.csv')\n",
    "cunkuan_m1 = pd.read_csv('../raw_data/x_test/cunkuan_test/cunkuan_m1.csv')\n",
    "cunkuan_m2 = pd.read_csv('../raw_data/x_test/cunkuan_test/cunkuan_m2.csv')\n",
    "cunkuan_m3 =pd.read_csv('../raw_data/x_test/cunkuan_test/cunkuan_m3.csv')"
   ]
  },
  {
   "cell_type": "code",
   "execution_count": 94,
   "metadata": {
    "ExecuteTime": {
     "end_time": "2020-11-04T09:58:20.075461Z",
     "start_time": "2020-11-04T09:58:18.560497Z"
    }
   },
   "outputs": [
    {
     "name": "stdout",
     "output_type": "stream",
     "text": [
      "all avli q3 69126\n",
      "m7 64173\n",
      "m8 66711\n",
      "m9 69122\n",
      "all avli q4 76170\n",
      "m10 70364\n",
      "m11 73345\n",
      "m12 76167\n",
      "all avli q1 76722\n",
      "m1 76719\n",
      "m2 76719\n",
      "m3 76719\n"
     ]
    }
   ],
   "source": [
    "print('all avli q3',cust_avli_q3.shape[0])\n",
    "cunkuan_m7 = cunkuan_m7.merge(cust_avli_q3,how='inner',on = 'cust_no')\n",
    "print('m7',cunkuan_m7.shape[0])\n",
    "cunkuan_m8 = cunkuan_m8.merge(cust_avli_q3,how='inner',on = 'cust_no')\n",
    "print('m8',cunkuan_m8.shape[0])\n",
    "cunkuan_m9 = cunkuan_m9.merge(cust_avli_q3,how='inner',on = 'cust_no')\n",
    "print('m9',cunkuan_m9.shape[0])\n",
    "print('all avli q4',cust_avli_q4.shape[0])\n",
    "cunkuan_m10 = cunkuan_m10.merge(cust_avli_q4,how='inner',on = 'cust_no')\n",
    "print('m10',cunkuan_m10.shape[0])\n",
    "cunkuan_m11 = cunkuan_m11.merge(cust_avli_q4,how='inner',on = 'cust_no')\n",
    "print('m11',cunkuan_m11.shape[0])\n",
    "cunkuan_m12 = cunkuan_m12.merge(cust_avli_q4,how='inner',on = 'cust_no')\n",
    "print('m12',cunkuan_m12.shape[0])\n",
    "print('all avli q1',cust_avli_q1.shape[0])\n",
    "cunkuan_m1 = cunkuan_m1.merge(cust_avli_q1,how='inner',on = 'cust_no')\n",
    "print('m1',cunkuan_m1.shape[0])\n",
    "cunkuan_m2 = cunkuan_m2.merge(cust_avli_q1,how='inner',on = 'cust_no')\n",
    "print('m2',cunkuan_m2.shape[0])\n",
    "cunkuan_m3 = cunkuan_m3.merge(cust_avli_q1,how='inner',on = 'cust_no')\n",
    "print('m3',cunkuan_m3.shape[0])"
   ]
  },
  {
   "cell_type": "code",
   "execution_count": 95,
   "metadata": {
    "ExecuteTime": {
     "end_time": "2020-11-04T09:58:20.096380Z",
     "start_time": "2020-11-04T09:58:20.081419Z"
    }
   },
   "outputs": [],
   "source": [
    "train_q3 = y_train_q3.copy()\n",
    "train_q3['quarter'] = 3\n",
    "train_q4 = y_train_q4.copy()\n",
    "train_q4['quarter'] = 4\n",
    "test_q1 = cust_avli_q1.copy()\n",
    "test_q1['quarter'] = 1"
   ]
  },
  {
   "cell_type": "code",
   "execution_count": 96,
   "metadata": {
    "ExecuteTime": {
     "end_time": "2020-11-04T09:58:21.014177Z",
     "start_time": "2020-11-04T09:58:20.105356Z"
    }
   },
   "outputs": [],
   "source": [
    "train_q3 = train_q3.merge(aum_m7.set_index('cust_no').add_prefix('num1_').reset_index(),on='cust_no',how='left')\n",
    "train_q3 = train_q3.merge(aum_m8.set_index('cust_no').add_prefix('num2_').reset_index(),on='cust_no',how='left')\n",
    "train_q3 = train_q3.merge(aum_m9.set_index('cust_no').add_prefix('num3_').reset_index(),on='cust_no',how='left')\n",
    "\n",
    "train_q4 = train_q4.merge(aum_m10.set_index('cust_no').add_prefix('num1_').reset_index(),on='cust_no',how='left')\n",
    "train_q4 = train_q4.merge(aum_m11.set_index('cust_no').add_prefix('num2_').reset_index(),on='cust_no',how='left')\n",
    "train_q4 = train_q4.merge(aum_m12.set_index('cust_no').add_prefix('num3_').reset_index(),on='cust_no',how='left')\n",
    "\n",
    "\n",
    "test_q1 = test_q1.merge(aum_m1.set_index('cust_no').add_prefix('num1_').reset_index(),on='cust_no',how='left')\n",
    "test_q1 = test_q1.merge(aum_m2.set_index('cust_no').add_prefix('num2_').reset_index(),on='cust_no',how='left')\n",
    "test_q1 = test_q1.merge(aum_m3.set_index('cust_no').add_prefix('num3_').reset_index(),on='cust_no',how='left')"
   ]
  },
  {
   "cell_type": "code",
   "execution_count": 97,
   "metadata": {
    "ExecuteTime": {
     "end_time": "2020-11-04T09:58:22.209726Z",
     "start_time": "2020-11-04T09:58:21.015918Z"
    }
   },
   "outputs": [],
   "source": [
    "train_q3 = train_q3.merge(behavior_m7.set_index('cust_no').add_prefix('num1_').reset_index(),on='cust_no',how='left')\n",
    "train_q3 = train_q3.merge(behavior_m8.set_index('cust_no').add_prefix('num2_').reset_index(),on='cust_no',how='left')\n",
    "train_q3 = train_q3.merge(behavior_m9.set_index('cust_no').add_prefix('num3_').reset_index(),on='cust_no',how='left')\n",
    "\n",
    "train_q4 = train_q4.merge(behavior_m10.set_index('cust_no').add_prefix('num1_').reset_index(),on='cust_no',how='left')\n",
    "train_q4 = train_q4.merge(behavior_m11.set_index('cust_no').add_prefix('num2_').reset_index(),on='cust_no',how='left')\n",
    "train_q4 = train_q4.merge(behavior_m12.set_index('cust_no').add_prefix('num3_').reset_index(),on='cust_no',how='left')\n",
    "\n",
    "\n",
    "test_q1 = test_q1.merge(behavior_m1.set_index('cust_no').add_prefix('num1_').reset_index(),on='cust_no',how='left')\n",
    "test_q1 = test_q1.merge(behavior_m2.set_index('cust_no').add_prefix('num2_').reset_index(),on='cust_no',how='left')\n",
    "test_q1 = test_q1.merge(behavior_m3.set_index('cust_no').add_prefix('num3_').reset_index(),on='cust_no',how='left')"
   ]
  },
  {
   "cell_type": "code",
   "execution_count": 98,
   "metadata": {
    "ExecuteTime": {
     "end_time": "2020-11-04T09:58:23.059453Z",
     "start_time": "2020-11-04T09:58:22.211722Z"
    }
   },
   "outputs": [],
   "source": [
    "train_q3 = train_q3.merge(cunkuan_m7.set_index('cust_no').add_prefix('num1_').reset_index(),on='cust_no',how='left')\n",
    "train_q3 = train_q3.merge(cunkuan_m8.set_index('cust_no').add_prefix('num2_').reset_index(),on='cust_no',how='left')\n",
    "train_q3 = train_q3.merge(cunkuan_m9.set_index('cust_no').add_prefix('num3_').reset_index(),on='cust_no',how='left')\n",
    "\n",
    "train_q4 = train_q4.merge(cunkuan_m10.set_index('cust_no').add_prefix('num1_').reset_index(),on='cust_no',how='left')\n",
    "train_q4 = train_q4.merge(cunkuan_m11.set_index('cust_no').add_prefix('num2_').reset_index(),on='cust_no',how='left')\n",
    "train_q4 = train_q4.merge(cunkuan_m12.set_index('cust_no').add_prefix('num3_').reset_index(),on='cust_no',how='left')\n",
    "\n",
    "\n",
    "test_q1 = test_q1.merge(cunkuan_m1.set_index('cust_no').add_prefix('num1_').reset_index(),on='cust_no',how='left')\n",
    "test_q1 = test_q1.merge(cunkuan_m2.set_index('cust_no').add_prefix('num2_').reset_index(),on='cust_no',how='left')\n",
    "test_q1 = test_q1.merge(cunkuan_m3.set_index('cust_no').add_prefix('num3_').reset_index(),on='cust_no',how='left')"
   ]
  },
  {
   "cell_type": "code",
   "execution_count": 99,
   "metadata": {
    "ExecuteTime": {
     "end_time": "2020-11-04T09:58:23.707772Z",
     "start_time": "2020-11-04T09:58:23.061448Z"
    }
   },
   "outputs": [],
   "source": [
    "train_q3 = train_q3.merge(cust_info_q3,on='cust_no',how='left')\n",
    "train_q4 = train_q4.merge(cust_info_q4,on='cust_no',how='left')\n",
    "test_q1 = test_q1.merge(cust_info_q1,on='cust_no',how='left')"
   ]
  },
  {
   "cell_type": "code",
   "execution_count": 100,
   "metadata": {
    "ExecuteTime": {
     "end_time": "2020-11-04T09:58:23.987292Z",
     "start_time": "2020-11-04T09:58:23.709714Z"
    }
   },
   "outputs": [],
   "source": [
    "train = train_q3.append(train_q4,ignore_index=True)"
   ]
  },
  {
   "cell_type": "code",
   "execution_count": 101,
   "metadata": {
    "ExecuteTime": {
     "end_time": "2020-11-04T09:58:24.513563Z",
     "start_time": "2020-11-04T09:58:23.989964Z"
    }
   },
   "outputs": [],
   "source": [
    "#### 每个月存入总金额的和/三个月平均\n",
    "cunru_list = [f'X{_}' for _ in range(1,9) if _ !=7]\n",
    "for prefix in ['num1','num2','num3']:\n",
    "    col_lists = [prefix+'_'+_ for _ in cunru_list]\n",
    "    train[f'{prefix}_cunru_sum'] = train[col_lists].sum(axis=1)\n",
    "    test_q1[f'{prefix}_cunru_sum'] = test_q1[col_lists].sum(axis=1)"
   ]
  },
  {
   "cell_type": "code",
   "execution_count": 102,
   "metadata": {
    "ExecuteTime": {
     "end_time": "2020-11-04T09:58:24.648259Z",
     "start_time": "2020-11-04T09:58:24.517552Z"
    }
   },
   "outputs": [],
   "source": [
    "train['cunru_month_avg'] = train[['num1_cunru_sum','num2_cunru_sum','num3_cunru_sum']].mean(axis=1)\n",
    "test_q1['cunru_month_avg'] = test_q1[['num1_cunru_sum','num2_cunru_sum','num3_cunru_sum']].mean(axis=1)"
   ]
  },
  {
   "cell_type": "code",
   "execution_count": 103,
   "metadata": {
    "ExecuteTime": {
     "end_time": "2020-11-04T09:58:25.058143Z",
     "start_time": "2020-11-04T09:58:24.651196Z"
    }
   },
   "outputs": [],
   "source": [
    "train['cunru_month_std'] = train[['num1_cunru_sum','num2_cunru_sum','num3_cunru_sum']].std(axis=1)\n",
    "test_q1['cunru_month_std'] = test_q1[['num1_cunru_sum','num2_cunru_sum','num3_cunru_sum']].std(axis=1)\n",
    "\n",
    "train['cunru_month_max'] = train[['num1_cunru_sum','num2_cunru_sum','num3_cunru_sum']].max(axis=1)\n",
    "test_q1['cunru_month_max'] = test_q1[['num1_cunru_sum','num2_cunru_sum','num3_cunru_sum']].max(axis=1)\n",
    "\n",
    "train['cunru_month_min'] = train[['num1_cunru_sum','num2_cunru_sum','num3_cunru_sum']].min(axis=1)\n",
    "test_q1['cunru_month_min'] = test_q1[['num1_cunru_sum','num2_cunru_sum','num3_cunru_sum']].min(axis=1)\n",
    "\n",
    "train['cunru_month_cv'] = train['cunru_month_std']/train['cunru_month_avg']\n",
    "test_q1['cunru_month_cv'] = test_q1['cunru_month_std']/train['cunru_month_avg']"
   ]
  },
  {
   "cell_type": "code",
   "execution_count": 104,
   "metadata": {
    "ExecuteTime": {
     "end_time": "2020-11-04T09:58:25.098027Z",
     "start_time": "2020-11-04T09:58:25.060129Z"
    }
   },
   "outputs": [],
   "source": [
    "#### 3和2的差 3和1的差 2和1的差\n",
    "for i in [1,2,3]:\n",
    "    for j in [1,2,3]:\n",
    "        if i>j:\n",
    "            train[f'diff_cunru_sum_{i}_{j}'] = train[f'num{i}_cunru_sum'] - train[f'num{j}_cunru_sum']\n",
    "            train[f'ratio_cunru_sum_{i}_{j}'] = train[f'num{i}_cunru_sum'] / train[f'num{j}_cunru_sum']\n",
    "            test_q1[f'diff_cunru_sum_{i}_{j}'] = test_q1[f'num{i}_cunru_sum'] - test_q1[f'num{j}_cunru_sum']\n",
    "            test_q1[f'ratio_cunru_sum_{i}_{j}'] = test_q1[f'num{i}_cunru_sum'] / test_q1[f'num{j}_cunru_sum']\n",
    "#####最后一个月和前3个月的均值\n",
    "train['ratio_num3_cunru_sum_mean'] = train['num3_cunru_sum']/train['cunru_month_avg']\n",
    "test_q1['ratio_num3_cunru_sum_mean'] = test_q1['num3_cunru_sum']/test_q1['cunru_month_avg']\n",
    "\n",
    "#####最后一个月和前3个月的差值\n",
    "train['diff_num3_cunru_sum_mean'] = train['num3_cunru_sum'] - train['cunru_month_avg']\n",
    "test_q1['diff_num3_cunru_sum_mean'] = test_q1['num3_cunru_sum'] - test_q1['cunru_month_avg']"
   ]
  },
  {
   "cell_type": "code",
   "execution_count": 105,
   "metadata": {
    "ExecuteTime": {
     "end_time": "2020-11-04T09:58:25.481012Z",
     "start_time": "2020-11-04T09:58:25.100012Z"
    }
   },
   "outputs": [],
   "source": [
    "#### 每个月贷款占总存款的比例\n",
    "for prefix in ['num1','num2','num3']:\n",
    "    train[prefix+'_ratio_daikuan_cunkuan'] = train[prefix+'_X7']/train[prefix+'_cunru_sum']\n",
    "    test_q1[prefix+'_ratio_daikuan_cunkuan'] = test_q1[prefix+'_X7']/test_q1[prefix+'_cunru_sum']\n",
    "    train[prefix+'_diff_daikuan_cunkuan'] = train[prefix+'_cunru_sum'] - train[prefix+'_X7'] \n",
    "    test_q1[prefix+'_diff_daikuan_cunkuan'] = test_q1[prefix+'_cunru_sum'] - test_q1[prefix+'_X7']\n",
    "#### 贷款比例的平均\n",
    "train['avg_daikuan_sum_ratio'] = train[['num1_ratio_daikuan_cunkuan','num2_ratio_daikuan_cunkuan','num3_ratio_daikuan_cunkuan']].mean(axis=1)\n",
    "test_q1['avg_daikuan_sum_ratio'] = test_q1[['num1_ratio_daikuan_cunkuan','num2_ratio_daikuan_cunkuan','num3_ratio_daikuan_cunkuan']].mean(axis=1)\n",
    "### 存款 - 贷款的平均\n",
    "train['avg_daikuan_sum_diff'] = train[['num1_diff_daikuan_cunkuan','num2_diff_daikuan_cunkuan','num3_diff_daikuan_cunkuan']].mean(axis=1)\n",
    "test_q1['avg_daikuan_sum_diff'] = test_q1[['num1_diff_daikuan_cunkuan','num2_diff_daikuan_cunkuan','num3_diff_daikuan_cunkuan']].mean(axis=1)"
   ]
  },
  {
   "cell_type": "code",
   "execution_count": 106,
   "metadata": {
    "ExecuteTime": {
     "end_time": "2020-11-04T09:58:25.730142Z",
     "start_time": "2020-11-04T09:58:25.482971Z"
    }
   },
   "outputs": [],
   "source": [
    "#### 3个月贷款金额的平均\n",
    "train['daikuan_month_avg'] = train[['num1_X7','num2_X7','num3_X7']].mean(axis=1)\n",
    "test_q1['daikuan_month_avg'] = test_q1[['num1_X7','num2_X7','num3_X7']].mean(axis=1)\n",
    "#### 3和2的差 3和1的差 2和1的差 贷款\n",
    "for i in [1,2,3]:\n",
    "    for j in [1,2,3]:\n",
    "        if i>j:\n",
    "            train[f'diff_daikuan_{i}_{j}'] = train[f'num{i}_X7'] - train[f'num{j}_X7']\n",
    "            train[f'ratio_daikuan_{i}_{j}'] = train[f'num{i}_X7'] / train[f'num{j}_X7']\n",
    "            test_q1[f'diff_daikuan_{i}_{j}'] = test_q1[f'num{i}_X7'] - test_q1[f'num{j}_X7']\n",
    "            test_q1[f'ratio_daikuan_{i}_{j}'] = test_q1[f'num{i}_X7'] / test_q1[f'num{j}_X7']\n",
    "#####最后一个月和前3个月的均值/差\n",
    "train['ratio_num3_daikuan_mean'] = train['num3_X7']/train['daikuan_month_avg']\n",
    "test_q1['ratio_num3_daikuan_mean'] = test_q1['num3_X7']/test_q1['daikuan_month_avg']\n",
    "\n",
    "train['diff_num3_daikuan_mean'] = train['num3_X7']- train['daikuan_month_avg']\n",
    "test_q1['diff_num3_daikuan_mean'] = test_q1['num3_X7']- test_q1['daikuan_month_avg']"
   ]
  },
  {
   "cell_type": "code",
   "execution_count": 107,
   "metadata": {
    "ExecuteTime": {
     "end_time": "2020-11-04T09:58:26.345408Z",
     "start_time": "2020-11-04T09:58:25.748955Z"
    }
   },
   "outputs": [],
   "source": [
    "#### 3个月贷款金额的最大/最小/std\n",
    "train['daikuan_month_std'] = train[['num1_X7','num2_X7','num3_X7']].std(axis=1)\n",
    "test_q1['daikuan_month_std'] = test_q1[['num1_X7','num2_X7','num3_X7']].std(axis=1)\n",
    "\n",
    "train['daikuan_month_max'] = train[['num1_X7','num2_X7','num3_X7']].max(axis=1)\n",
    "test_q1['daikuan_month_max'] = test_q1[['num1_X7','num2_X7','num3_X7']].max(axis=1)\n",
    "\n",
    "train['daikuan_month_min'] = train[['num1_X7','num2_X7','num3_X7']].min(axis=1)\n",
    "test_q1['daikuan_month_min'] = test_q1[['num1_X7','num2_X7','num3_X7']].min(axis=1)\n",
    "\n",
    "train['daikuan_month_cv'] = train['daikuan_month_std']/train['daikuan_month_avg']\n",
    "test_q1['daikuan_month_cv'] = test_q1['daikuan_month_std']/test_q1['daikuan_month_avg']"
   ]
  },
  {
   "cell_type": "code",
   "execution_count": 108,
   "metadata": {
    "ExecuteTime": {
     "end_time": "2020-11-04T09:58:26.353338Z",
     "start_time": "2020-11-04T09:58:26.349348Z"
    }
   },
   "outputs": [],
   "source": [
    "# ### 每个值的平均/各个月的差值/比例 3月份/比例\n",
    "# cols = [f'X{_}' for _ in range(1,9) if _ !=7]\n",
    "# dfs = [train,test_q1]\n",
    "# for df in dfs:\n",
    "#     for col in cols:\n",
    "#         df[f'{col}_month_avg'] = df[[f'num1_{col}',f'num2_{col}',f'num3_{col}']].mean(axis=1)\n",
    "#         df[f'ratio_num3_{col}_mean'] = df[f'num3_{col}']/df[f'{col}_month_avg']\n",
    "#         df[f'diff_num3_{col}_mean'] = df[f'num3_{col}'] - df[f'{col}_month_avg']\n",
    "        \n",
    "#         for i in [1,2,3]:\n",
    "#             for j in [1,2,3]:\n",
    "#                 if i>j:\n",
    "#                     df[f'diff_{col}_{i}_{j}'] = train[f'num{i}_{col}'] - train[f'num{j}_{col}']\n",
    "#                     df[f'ratio_{col}_{i}_{j}'] = train[f'num{i}_{col}'] / train[f'num{j}_{col}']"
   ]
  },
  {
   "cell_type": "code",
   "execution_count": 117,
   "metadata": {
    "ExecuteTime": {
     "end_time": "2020-11-04T10:01:11.038397Z",
     "start_time": "2020-11-04T10:01:11.034410Z"
    }
   },
   "outputs": [],
   "source": [
    "import seaborn as sns\n",
    "import matplotlib.pyplot as plt"
   ]
  },
  {
   "cell_type": "code",
   "execution_count": 119,
   "metadata": {
    "ExecuteTime": {
     "end_time": "2020-11-04T10:01:27.973823Z",
     "start_time": "2020-11-04T10:01:27.785328Z"
    }
   },
   "outputs": [
    {
     "data": {
      "text/plain": [
       "(0, 150)"
      ]
     },
     "execution_count": 119,
     "metadata": {},
     "output_type": "execute_result"
    },
    {
     "data": {
      "image/png": "[encoded data removed]",
      "text/plain": [
       "<Figure size 432x288 with 1 Axes>"
      ]
     },
     "metadata": {
      "needs_background": "light"
     },
     "output_type": "display_data"
    }
   ],
   "source": [
    "sns.boxplot(train.label,train.num3_diff_last_trans)\n",
    "plt.ylim(0,150)"
   ]
  },
  {
   "cell_type": "code",
   "execution_count": 148,
   "metadata": {
    "ExecuteTime": {
     "end_time": "2020-11-04T10:07:35.230260Z",
     "start_time": "2020-11-04T10:07:35.218296Z"
    }
   },
   "outputs": [
    {
     "data": {
      "text/plain": [
       " 1    0.777757\n",
       " 0    0.148348\n",
       "-1    0.073895\n",
       "Name: label, dtype: float64"
      ]
     },
     "execution_count": 148,
     "metadata": {},
     "output_type": "execute_result"
    }
   ],
   "source": [
    "train.label[train.num3_diff_last_trans>=170].value_counts(normalize=True)"
   ]
  },
  {
   "cell_type": "code",
   "execution_count": 122,
   "metadata": {
    "ExecuteTime": {
     "end_time": "2020-11-04T10:03:36.451389Z",
     "start_time": "2020-11-04T10:03:36.437428Z"
    }
   },
   "outputs": [
    {
     "data": {
      "text/plain": [
       " 1    0.638820\n",
       " 0    0.208106\n",
       "-1    0.153074\n",
       "Name: label, dtype: float64"
      ]
     },
     "execution_count": 122,
     "metadata": {},
     "output_type": "execute_result"
    }
   ],
   "source": [
    "train.label.value_counts(normalize=True)"
   ]
  },
  {
   "cell_type": "code",
   "execution_count": 126,
   "metadata": {
    "ExecuteTime": {
     "end_time": "2020-11-04T10:05:00.478123Z",
     "start_time": "2020-11-04T10:05:00.462197Z"
    }
   },
   "outputs": [
    {
     "data": {
      "text/plain": [
       " 1    0.602154\n",
       " 0    0.224091\n",
       "-1    0.173756\n",
       "Name: label, dtype: float64"
      ]
     },
     "execution_count": 126,
     "metadata": {},
     "output_type": "execute_result"
    }
   ],
   "source": [
    "train.label[train.num3_diff_last_trans<=90].value_counts(normalize=True)"
   ]
  },
  {
   "cell_type": "code",
   "execution_count": 128,
   "metadata": {
    "ExecuteTime": {
     "end_time": "2020-11-04T10:05:51.123146Z",
     "start_time": "2020-11-04T10:05:51.106152Z"
    }
   },
   "outputs": [
    {
     "data": {
      "text/plain": [
       "0.0     21785\n",
       "1.0      7721\n",
       "3.0      5221\n",
       "10.0     5198\n",
       "4.0      5025\n",
       "        ...  \n",
       "65.0      105\n",
       "72.0       96\n",
       "79.0       80\n",
       "86.0       68\n",
       "85.0       67\n",
       "Name: num3_diff_last_trans, Length: 91, dtype: int64"
      ]
     },
     "execution_count": 128,
     "metadata": {},
     "output_type": "execute_result"
    }
   ],
   "source": [
    "train.num3_diff_last_trans[train.num3_diff_last_trans<=90].value_counts()"
   ]
  },
  {
   "cell_type": "code",
   "execution_count": 125,
   "metadata": {
    "ExecuteTime": {
     "end_time": "2020-11-04T10:04:10.816044Z",
     "start_time": "2020-11-04T10:04:10.800090Z"
    }
   },
   "outputs": [
    {
     "data": {
      "text/plain": [
       "0.0     8420\n",
       "1.0     4627\n",
       "10.0    3421\n",
       "4.0     3038\n",
       "11.0    2071\n",
       "        ... \n",
       "61.0      46\n",
       "63.0      40\n",
       "64.0      38\n",
       "90.0      32\n",
       "65.0      21\n",
       "Name: num3_diff_last_trans, Length: 91, dtype: int64"
      ]
     },
     "execution_count": 125,
     "metadata": {},
     "output_type": "execute_result"
    }
   ],
   "source": [
    "test_q1.num3_diff_last_trans.value_counts()"
   ]
  },
  {
   "cell_type": "code",
   "execution_count": null,
   "metadata": {},
   "outputs": [],
   "source": []
  },
  {
   "cell_type": "code",
   "execution_count": 114,
   "metadata": {
    "ExecuteTime": {
     "end_time": "2020-11-04T09:59:08.924816Z",
     "start_time": "2020-11-04T09:59:08.914842Z"
    }
   },
   "outputs": [
    {
     "data": {
      "text/plain": [
       "0         18.0\n",
       "1         69.0\n",
       "2         43.0\n",
       "3          4.0\n",
       "4         46.0\n",
       "          ... \n",
       "145291    93.0\n",
       "145292     0.0\n",
       "145293     0.0\n",
       "145294     0.0\n",
       "145295    77.0\n",
       "Name: num3_diff_last_trans, Length: 145296, dtype: float64"
      ]
     },
     "execution_count": 114,
     "metadata": {},
     "output_type": "execute_result"
    }
   ],
   "source": [
    "train.num3_diff_last_trans"
   ]
  },
  {
   "cell_type": "code",
   "execution_count": 109,
   "metadata": {
    "ExecuteTime": {
     "end_time": "2020-11-04T09:58:26.649974Z",
     "start_time": "2020-11-04T09:58:26.355332Z"
    }
   },
   "outputs": [],
   "source": [
    "#### behavior\n",
    "cols = [f'B{_}' for _ in range(1,5)]\n",
    "df = [train,test_q1]\n",
    "for prefix in ['num1','num2','num3']:\n",
    "    col_lists = [prefix+'_'+_ for _ in cunru_list]\n",
    "    train[f'{prefix}_cunru_sum'] = train[col_lists].sum(axis=1)\n",
    "    test_q1[f'{prefix}_cunru_sum'] = test_q1[col_lists].sum(axis=1)"
   ]
  },
  {
   "cell_type": "code",
   "execution_count": 110,
   "metadata": {
    "ExecuteTime": {
     "end_time": "2020-11-04T09:58:26.668497Z",
     "start_time": "2020-11-04T09:58:26.652588Z"
    }
   },
   "outputs": [
    {
     "ename": "NameError",
     "evalue": "name 'add_list' is not defined",
     "output_type": "error",
     "traceback": [
      "\u001b[1;31m---------------------------------------------------------------------------\u001b[0m",
      "\u001b[1;31mNameError\u001b[0m                                 Traceback (most recent call last)",
      "\u001b[1;32m<ipython-input-110-d9cb39457ad0>\u001b[0m in \u001b[0;36m<module>\u001b[1;34m\u001b[0m\n\u001b[0;32m      2\u001b[0m \u001b[0mcols\u001b[0m \u001b[1;33m=\u001b[0m \u001b[1;33m[\u001b[0m\u001b[1;34mf'B{_}'\u001b[0m \u001b[1;32mfor\u001b[0m \u001b[0m_\u001b[0m \u001b[1;32min\u001b[0m \u001b[0mrange\u001b[0m\u001b[1;33m(\u001b[0m\u001b[1;36m1\u001b[0m\u001b[1;33m,\u001b[0m\u001b[1;36m5\u001b[0m\u001b[1;33m)\u001b[0m\u001b[1;33m]\u001b[0m\u001b[1;33m\u001b[0m\u001b[1;33m\u001b[0m\u001b[0m\n\u001b[0;32m      3\u001b[0m \u001b[0mdfs\u001b[0m \u001b[1;33m=\u001b[0m \u001b[1;33m[\u001b[0m\u001b[0mtrain\u001b[0m\u001b[1;33m,\u001b[0m\u001b[0mtest_q1\u001b[0m\u001b[1;33m]\u001b[0m\u001b[1;33m\u001b[0m\u001b[1;33m\u001b[0m\u001b[0m\n\u001b[1;32m----> 4\u001b[1;33m \u001b[0madd_list\u001b[0m\u001b[1;33m\u001b[0m\u001b[1;33m\u001b[0m\u001b[0m\n\u001b[0m\u001b[0;32m      5\u001b[0m \u001b[1;32mfor\u001b[0m \u001b[0mdf\u001b[0m \u001b[1;32min\u001b[0m \u001b[0mdfs\u001b[0m\u001b[1;33m:\u001b[0m\u001b[1;33m\u001b[0m\u001b[1;33m\u001b[0m\u001b[0m\n\u001b[0;32m      6\u001b[0m     \u001b[1;32mfor\u001b[0m \u001b[0mcol\u001b[0m \u001b[1;32min\u001b[0m \u001b[0mcols\u001b[0m\u001b[1;33m:\u001b[0m\u001b[1;33m\u001b[0m\u001b[1;33m\u001b[0m\u001b[0m\n",
      "\u001b[1;31mNameError\u001b[0m: name 'add_list' is not defined"
     ]
    }
   ],
   "source": [
    "##### behavior系列 三个月的平均 最后一个月与平均的差/与比例\n",
    "cols = [f'B{_}' for _ in range(1,5)]\n",
    "dfs = [train,test_q1]\n",
    "add_list \n",
    "for df in dfs:\n",
    "    for col in cols:\n",
    "        df[f'{col}_month_avg'] = df[[f'num1_{col}',f'num2_{col}',f'num3_{col}']].mean(axis=1)\n",
    "        df[f'ratio_num3_{col}_mean'] = df[f'num3_{col}']/df[f'{col}_month_avg']\n",
    "        df[f'diff_num3_{col}_mean'] = df[f'num3_{col}'] - df[f'{col}_month_avg']\n",
    "#         for i in [1,2,3]:\n",
    "#             for j in [1,2,3]:\n",
    "#                 if i>j:\n",
    "#                     df[f'diff_{col}_{i}_{j}'] = train[f'num{i}_{col}'] - train[f'num{j}_{col}']\n",
    "#                     df[f'ratio_{col}_{i}_{j}'] = train[f'num{i}_{col}'] / train[f'num{j}_{col}']"
   ]
  },
  {
   "cell_type": "code",
   "execution_count": null,
   "metadata": {
    "ExecuteTime": {
     "end_time": "2020-11-04T09:58:26.672485Z",
     "start_time": "2020-11-04T09:58:18.703Z"
    }
   },
   "outputs": [],
   "source": [
    "cols = [f'B{_}' for _ in range(1,5)]"
   ]
  },
  {
   "cell_type": "code",
   "execution_count": null,
   "metadata": {
    "ExecuteTime": {
     "end_time": "2020-11-04T09:58:26.675476Z",
     "start_time": "2020-11-04T09:58:19.153Z"
    }
   },
   "outputs": [],
   "source": [
    "add_list = []\n",
    "for col in cols:\n",
    "    add_list.append(f'{col}_month_avg')\n",
    "    add_list.append(f'ratio_num3_{col}_mean')\n",
    "    add_list.append(f'diff_num3_{col}_mean')"
   ]
  },
  {
   "cell_type": "code",
   "execution_count": null,
   "metadata": {
    "ExecuteTime": {
     "end_time": "2020-11-04T09:58:26.677471Z",
     "start_time": "2020-11-04T09:58:19.660Z"
    }
   },
   "outputs": [],
   "source": [
    "add_list"
   ]
  },
  {
   "cell_type": "code",
   "execution_count": null,
   "metadata": {
    "ExecuteTime": {
     "end_time": "2020-11-04T09:58:26.678481Z",
     "start_time": "2020-11-04T09:58:20.231Z"
    }
   },
   "outputs": [],
   "source": [
    "#train = train_q3.append(train_q4,ignore_index=True)\n",
    "y_train = train.label\n",
    "X_train = train.drop(['cust_no','quarter','label'],axis=1)\n",
    "\n",
    "X_test = test_q1.drop(['cust_no','quarter'],axis=1)"
   ]
  },
  {
   "cell_type": "code",
   "execution_count": null,
   "metadata": {},
   "outputs": [],
   "source": []
  },
  {
   "cell_type": "code",
   "execution_count": null,
   "metadata": {},
   "outputs": [],
   "source": []
  },
  {
   "cell_type": "code",
   "execution_count": 30,
   "metadata": {
    "ExecuteTime": {
     "end_time": "2020-11-02T10:02:59.124466Z",
     "start_time": "2020-11-02T10:02:59.117491Z"
    }
   },
   "outputs": [],
   "source": [
    "y_train = y_train +1"
   ]
  },
  {
   "cell_type": "code",
   "execution_count": 31,
   "metadata": {
    "ExecuteTime": {
     "end_time": "2020-11-02T10:03:00.808282Z",
     "start_time": "2020-11-02T10:02:59.128457Z"
    }
   },
   "outputs": [],
   "source": [
    "cat_list = ['I1','I3','I5','I8','I10','I12','I13','I14']\n",
    "for feature in cat_list:\n",
    "    label_encod = LabelEncoder()\n",
    "    label_encod.fit(list(X_train[feature].astype(str).values) + list(X_test[feature].astype(str).values))\n",
    "    X_train[feature] = label_encod.transform(list(X_train[feature].astype(str).values))\n",
    "    X_test[feature] = label_encod.transform(list(X_test[feature].astype(str).values))"
   ]
  },
  {
   "cell_type": "code",
   "execution_count": 32,
   "metadata": {
    "ExecuteTime": {
     "end_time": "2020-11-02T10:03:00.815832Z",
     "start_time": "2020-11-02T10:03:00.810846Z"
    }
   },
   "outputs": [
    {
     "name": "stdout",
     "output_type": "stream",
     "text": [
      "(145296, 95)\n",
      "(76722, 95)\n"
     ]
    }
   ],
   "source": [
    "print(X_train.shape)\n",
    "print(X_test.shape)"
   ]
  },
  {
   "cell_type": "code",
   "execution_count": 33,
   "metadata": {
    "ExecuteTime": {
     "end_time": "2020-11-02T10:03:01.028577Z",
     "start_time": "2020-11-02T10:03:00.819822Z"
    }
   },
   "outputs": [],
   "source": [
    "X_train.fillna(-999,inplace=True)\n",
    "X_test.fillna(-999,inplace=True)"
   ]
  },
  {
   "cell_type": "markdown",
   "metadata": {},
   "source": [
    "#### 拟合好的参数"
   ]
  },
  {
   "cell_type": "code",
   "execution_count": 50,
   "metadata": {
    "ExecuteTime": {
     "end_time": "2020-11-02T10:09:34.047381Z",
     "start_time": "2020-11-02T10:09:34.037409Z"
    }
   },
   "outputs": [],
   "source": [
    "from numba import njit\n",
    "@njit\n",
    "def qwk3(a1, a2, max_rat=2):\n",
    "\n",
    "    hist1 = np.zeros((max_rat + 1, ))\n",
    "    hist2 = np.zeros((max_rat + 1, ))\n",
    "\n",
    "    o = 0\n",
    "    for k in range(a1.shape[0]):\n",
    "        i, j = a1[k], a2[k]\n",
    "        hist1[i] += 1\n",
    "        hist2[j] += 1\n",
    "        o +=  1 if i!=j else 0\n",
    "\n",
    "    e = 0\n",
    "    for i in range(max_rat + 1):\n",
    "        for j in range(max_rat + 1):\n",
    "            e += hist1[i] * hist2[j] * (1 if i!=j else 0)\n",
    "\n",
    "    e = e / a1.shape[0]\n",
    "\n",
    "    return 1 - o / e"
   ]
  },
  {
   "cell_type": "code",
   "execution_count": 45,
   "metadata": {
    "ExecuteTime": {
     "end_time": "2020-11-02T10:08:39.492783Z",
     "start_time": "2020-11-02T10:08:39.481802Z"
    }
   },
   "outputs": [
    {
     "data": {
      "text/plain": [
       "1.0"
      ]
     },
     "execution_count": 45,
     "metadata": {},
     "output_type": "execute_result"
    }
   ],
   "source": [
    "qwk3(np.array([1,1,2,2,3,3,0]),np.array([1,1,2,2,3,3,0]))"
   ]
  },
  {
   "cell_type": "code",
   "execution_count": 49,
   "metadata": {
    "ExecuteTime": {
     "end_time": "2020-11-02T10:09:30.315891Z",
     "start_time": "2020-11-02T10:09:30.307912Z"
    }
   },
   "outputs": [],
   "source": [
    "def kappa_custom(y_true,y_pred):\n",
    "    y_pred = np.reshape(y_pred,(-1,3),'F')\n",
    "    y_pred = y_pred.argmax(axis=1)\n",
    "    y_pred = np.asarray(y_pred,dtype=np.int64)\n",
    "    y_true = np.asarray(y_true,dtype=np.int64)\n",
    "    return 'kappa', qwk3(y_true,y_pred), True"
   ]
  },
  {
   "cell_type": "code",
   "execution_count": 51,
   "metadata": {
    "ExecuteTime": {
     "end_time": "2020-11-02T10:09:35.600681Z",
     "start_time": "2020-11-02T10:09:35.594724Z"
    }
   },
   "outputs": [],
   "source": [
    "params = {'bagging_freq':1,\n",
    "'num_leaves': 370,\n",
    " 'subsample': 0.9967584074071576,\n",
    " 'colsample_bytree': 0.9134179494490106,\n",
    " 'min_child_weight': 0.5400296245490022,\n",
    " 'min_child_samples': 30,\n",
    " 'reg_alpha': 2.7153164704173993,\n",
    " 'reg_lambda': 1.2598378046329661,\n",
    " 'min_split_gain': 0.15398430096611754}"
   ]
  },
  {
   "cell_type": "code",
   "execution_count": 54,
   "metadata": {
    "ExecuteTime": {
     "end_time": "2020-11-02T10:12:27.775659Z",
     "start_time": "2020-11-02T10:10:33.624943Z"
    }
   },
   "outputs": [
    {
     "name": "stdout",
     "output_type": "stream",
     "text": [
      "1folds begins******************************\n",
      "Training until validation scores don't improve for 100 rounds\n",
      "[50]\ttraining's kappa: 0\tvalid_1's kappa: 0\n",
      "[100]\ttraining's kappa: 0.315472\tvalid_1's kappa: 0.292002\n",
      "[150]\ttraining's kappa: 0.421314\tvalid_1's kappa: 0.382339\n",
      "[200]\ttraining's kappa: 0.467076\tvalid_1's kappa: 0.413287\n",
      "[250]\ttraining's kappa: 0.501127\tvalid_1's kappa: 0.431814\n",
      "[300]\ttraining's kappa: 0.524971\tvalid_1's kappa: 0.441208\n",
      "[350]\ttraining's kappa: 0.543605\tvalid_1's kappa: 0.445878\n",
      "[400]\ttraining's kappa: 0.559223\tvalid_1's kappa: 0.449714\n"
     ]
    },
    {
     "ename": "KeyboardInterrupt",
     "evalue": "",
     "output_type": "error",
     "traceback": [
      "\u001b[1;31m---------------------------------------------------------------------------\u001b[0m",
      "\u001b[1;31mKeyboardInterrupt\u001b[0m                         Traceback (most recent call last)",
      "\u001b[1;32m<ipython-input-54-27c16d5e7d4e>\u001b[0m in \u001b[0;36m<module>\u001b[1;34m\u001b[0m\n\u001b[0;32m     16\u001b[0m \u001b[1;33m\u001b[0m\u001b[0m\n\u001b[0;32m     17\u001b[0m     clf.fit(X_train2,y_train2,eval_set = [(X_train2,y_train2),(X_test2,y_test2)],early_stopping_rounds=100,verbose=50,\\\n\u001b[1;32m---> 18\u001b[1;33m             eval_metric=kappa_custom)\n\u001b[0m\u001b[0;32m     19\u001b[0m     \u001b[0mtmp\u001b[0m \u001b[1;33m=\u001b[0m \u001b[0mclf\u001b[0m\u001b[1;33m.\u001b[0m\u001b[0mpredict_proba\u001b[0m\u001b[1;33m(\u001b[0m\u001b[0mX_test2\u001b[0m\u001b[1;33m)\u001b[0m\u001b[1;33m\u001b[0m\u001b[1;33m\u001b[0m\u001b[0m\n\u001b[0;32m     20\u001b[0m     \u001b[0moof_train\u001b[0m\u001b[1;33m[\u001b[0m\u001b[0mtest_index\u001b[0m\u001b[1;33m,\u001b[0m\u001b[1;33m:\u001b[0m\u001b[1;33m]\u001b[0m \u001b[1;33m=\u001b[0m \u001b[0mtmp\u001b[0m\u001b[1;33m\u001b[0m\u001b[1;33m\u001b[0m\u001b[0m\n",
      "\u001b[1;32m~\\AppData\\Roaming\\Python\\Python37\\site-packages\\lightgbm\\sklearn.py\u001b[0m in \u001b[0;36mfit\u001b[1;34m(self, X, y, sample_weight, init_score, eval_set, eval_names, eval_sample_weight, eval_class_weight, eval_init_score, eval_metric, early_stopping_rounds, verbose, feature_name, categorical_feature, callbacks)\u001b[0m\n\u001b[0;32m    803\u001b[0m                                         \u001b[0mverbose\u001b[0m\u001b[1;33m=\u001b[0m\u001b[0mverbose\u001b[0m\u001b[1;33m,\u001b[0m \u001b[0mfeature_name\u001b[0m\u001b[1;33m=\u001b[0m\u001b[0mfeature_name\u001b[0m\u001b[1;33m,\u001b[0m\u001b[1;33m\u001b[0m\u001b[1;33m\u001b[0m\u001b[0m\n\u001b[0;32m    804\u001b[0m                                         \u001b[0mcategorical_feature\u001b[0m\u001b[1;33m=\u001b[0m\u001b[0mcategorical_feature\u001b[0m\u001b[1;33m,\u001b[0m\u001b[1;33m\u001b[0m\u001b[1;33m\u001b[0m\u001b[0m\n\u001b[1;32m--> 805\u001b[1;33m                                         callbacks=callbacks)\n\u001b[0m\u001b[0;32m    806\u001b[0m         \u001b[1;32mreturn\u001b[0m \u001b[0mself\u001b[0m\u001b[1;33m\u001b[0m\u001b[1;33m\u001b[0m\u001b[0m\n\u001b[0;32m    807\u001b[0m \u001b[1;33m\u001b[0m\u001b[0m\n",
      "\u001b[1;32m~\\AppData\\Roaming\\Python\\Python37\\site-packages\\lightgbm\\sklearn.py\u001b[0m in \u001b[0;36mfit\u001b[1;34m(self, X, y, sample_weight, init_score, group, eval_set, eval_names, eval_sample_weight, eval_class_weight, eval_init_score, eval_group, eval_metric, early_stopping_rounds, verbose, feature_name, categorical_feature, callbacks)\u001b[0m\n\u001b[0;32m    598\u001b[0m                               \u001b[0mverbose_eval\u001b[0m\u001b[1;33m=\u001b[0m\u001b[0mverbose\u001b[0m\u001b[1;33m,\u001b[0m \u001b[0mfeature_name\u001b[0m\u001b[1;33m=\u001b[0m\u001b[0mfeature_name\u001b[0m\u001b[1;33m,\u001b[0m\u001b[1;33m\u001b[0m\u001b[1;33m\u001b[0m\u001b[0m\n\u001b[0;32m    599\u001b[0m                               \u001b[0mcategorical_feature\u001b[0m\u001b[1;33m=\u001b[0m\u001b[0mcategorical_feature\u001b[0m\u001b[1;33m,\u001b[0m\u001b[1;33m\u001b[0m\u001b[1;33m\u001b[0m\u001b[0m\n\u001b[1;32m--> 600\u001b[1;33m                               callbacks=callbacks)\n\u001b[0m\u001b[0;32m    601\u001b[0m \u001b[1;33m\u001b[0m\u001b[0m\n\u001b[0;32m    602\u001b[0m         \u001b[1;32mif\u001b[0m \u001b[0mevals_result\u001b[0m\u001b[1;33m:\u001b[0m\u001b[1;33m\u001b[0m\u001b[1;33m\u001b[0m\u001b[0m\n",
      "\u001b[1;32m~\\AppData\\Roaming\\Python\\Python37\\site-packages\\lightgbm\\engine.py\u001b[0m in \u001b[0;36mtrain\u001b[1;34m(params, train_set, num_boost_round, valid_sets, valid_names, fobj, feval, init_model, feature_name, categorical_feature, early_stopping_rounds, evals_result, verbose_eval, learning_rates, keep_training_booster, callbacks)\u001b[0m\n\u001b[0;32m    247\u001b[0m                                     evaluation_result_list=None))\n\u001b[0;32m    248\u001b[0m \u001b[1;33m\u001b[0m\u001b[0m\n\u001b[1;32m--> 249\u001b[1;33m         \u001b[0mbooster\u001b[0m\u001b[1;33m.\u001b[0m\u001b[0mupdate\u001b[0m\u001b[1;33m(\u001b[0m\u001b[0mfobj\u001b[0m\u001b[1;33m=\u001b[0m\u001b[0mfobj\u001b[0m\u001b[1;33m)\u001b[0m\u001b[1;33m\u001b[0m\u001b[1;33m\u001b[0m\u001b[0m\n\u001b[0m\u001b[0;32m    250\u001b[0m \u001b[1;33m\u001b[0m\u001b[0m\n\u001b[0;32m    251\u001b[0m         \u001b[0mevaluation_result_list\u001b[0m \u001b[1;33m=\u001b[0m \u001b[1;33m[\u001b[0m\u001b[1;33m]\u001b[0m\u001b[1;33m\u001b[0m\u001b[1;33m\u001b[0m\u001b[0m\n",
      "\u001b[1;32m~\\AppData\\Roaming\\Python\\Python37\\site-packages\\lightgbm\\basic.py\u001b[0m in \u001b[0;36mupdate\u001b[1;34m(self, train_set, fobj)\u001b[0m\n\u001b[0;32m   1974\u001b[0m             _safe_call(_LIB.LGBM_BoosterUpdateOneIter(\n\u001b[0;32m   1975\u001b[0m                 \u001b[0mself\u001b[0m\u001b[1;33m.\u001b[0m\u001b[0mhandle\u001b[0m\u001b[1;33m,\u001b[0m\u001b[1;33m\u001b[0m\u001b[1;33m\u001b[0m\u001b[0m\n\u001b[1;32m-> 1976\u001b[1;33m                 ctypes.byref(is_finished)))\n\u001b[0m\u001b[0;32m   1977\u001b[0m             \u001b[0mself\u001b[0m\u001b[1;33m.\u001b[0m\u001b[0m__is_predicted_cur_iter\u001b[0m \u001b[1;33m=\u001b[0m \u001b[1;33m[\u001b[0m\u001b[1;32mFalse\u001b[0m \u001b[1;32mfor\u001b[0m \u001b[0m_\u001b[0m \u001b[1;32min\u001b[0m \u001b[0mrange_\u001b[0m\u001b[1;33m(\u001b[0m\u001b[0mself\u001b[0m\u001b[1;33m.\u001b[0m\u001b[0m__num_dataset\u001b[0m\u001b[1;33m)\u001b[0m\u001b[1;33m]\u001b[0m\u001b[1;33m\u001b[0m\u001b[1;33m\u001b[0m\u001b[0m\n\u001b[0;32m   1978\u001b[0m             \u001b[1;32mreturn\u001b[0m \u001b[0mis_finished\u001b[0m\u001b[1;33m.\u001b[0m\u001b[0mvalue\u001b[0m \u001b[1;33m==\u001b[0m \u001b[1;36m1\u001b[0m\u001b[1;33m\u001b[0m\u001b[1;33m\u001b[0m\u001b[0m\n",
      "\u001b[1;31mKeyboardInterrupt\u001b[0m: "
     ]
    }
   ],
   "source": [
    "skf = StratifiedKFold(n_splits=5,shuffle=True,random_state=47)\n",
    "fea_impor = 0\n",
    "oof_train = np.zeros((X_train.shape[0],3))\n",
    "y_pred = np.zeros((X_test.shape[0],3))\n",
    "kappa_fold_list = []\n",
    "k = 0\n",
    "for train_index,test_index in skf.split(X_train,y_train):\n",
    "    k+=1\n",
    "    print(f'{k}folds begins******************************')\n",
    "    X_train2 = X_train.iloc[train_index,:]\n",
    "    y_train2 = y_train.iloc[train_index]\n",
    "    X_test2 = X_train.iloc[test_index,:]\n",
    "    y_test2 = y_train.iloc[test_index]\n",
    "    clf = lgb.LGBMClassifier(n_estimators=10000, random_state=47,learning_rate=0.01,importance_type = 'gain',metric='None',\n",
    "                 n_jobs = -1,**params)\n",
    "\n",
    "    clf.fit(X_train2,y_train2,eval_set = [(X_train2,y_train2),(X_test2,y_test2)],early_stopping_rounds=100,verbose=50,\\\n",
    "            eval_metric=kappa_custom)\n",
    "    tmp = clf.predict_proba(X_test2)\n",
    "    oof_train[test_index,:] = tmp\n",
    "    kappa_loss = cohen_kappa_score(y_test2,tmp.argmax(axis=1))\n",
    "    print(f'fold{k} kappa_loss',kappa_loss)\n",
    "    kappa_fold_list.append(kappa_loss)\n",
    "    y_pred += clf.predict_proba(X_test)/skf.n_splits\n",
    "    fea_impor += clf.feature_importances_/skf.n_splits\n",
    "for _ in kappa_fold_list:\n",
    "    print(_)\n",
    "print('mean kappa',np.mean(kappa_fold_list))\n",
    "print('oof kappa',cohen_kappa_score(y_train,oof_train.argmax(axis=1)))"
   ]
  },
  {
   "cell_type": "code",
   "execution_count": null,
   "metadata": {},
   "outputs": [],
   "source": []
  },
  {
   "cell_type": "code",
   "execution_count": null,
   "metadata": {
    "ExecuteTime": {
     "end_time": "2020-11-02T10:03:09.399305Z",
     "start_time": "2020-11-02T10:02:30.902Z"
    }
   },
   "outputs": [],
   "source": [
    "pd.DataFrame(fea_impor,columns = ['importance'],index=X_train.columns).sort_values('importance',ascending=False)"
   ]
  },
  {
   "cell_type": "code",
   "execution_count": null,
   "metadata": {},
   "outputs": [],
   "source": []
  },
  {
   "cell_type": "code",
   "execution_count": null,
   "metadata": {
    "ExecuteTime": {
     "end_time": "2020-11-02T10:03:09.401327Z",
     "start_time": "2020-11-02T10:02:31.944Z"
    }
   },
   "outputs": [],
   "source": [
    "class_num=3\n",
    "weights = [1.0]*class_num\n",
    "\n",
    "def search_weight(valid_y, raw_prob, init_weight=[1.0]*class_num, step=0.001):\n",
    "    weight = init_weight.copy()\n",
    "    f_best = cohen_kappa_score(valid_y,oof_train.argmax(axis=1))\n",
    "    flag_score = 0\n",
    "    round_num = 1\n",
    "    while(flag_score != f_best):\n",
    "        print(\"round: \", round_num)\n",
    "        round_num += 1\n",
    "        flag_score = f_best\n",
    "        for c in range(class_num):\n",
    "            for n_w in range(0, 2000,10):\n",
    "                num = n_w * step\n",
    "                new_weight = weight.copy()\n",
    "                new_weight[c] = num\n",
    "\n",
    "                prob_df = raw_prob.copy()\n",
    "                prob_df = prob_df * np.array(new_weight)\n",
    "\n",
    "                f = cohen_kappa_score(valid_y,prob_df.argmax(axis=1))\n",
    "                if f > f_best:\n",
    "                    weight = new_weight.copy()\n",
    "                    f_best = f\n",
    "                    print(f)\n",
    "    return weight"
   ]
  },
  {
   "cell_type": "code",
   "execution_count": null,
   "metadata": {
    "ExecuteTime": {
     "end_time": "2020-11-02T10:03:09.402298Z",
     "start_time": "2020-11-02T10:02:32.466Z"
    }
   },
   "outputs": [],
   "source": [
    "weight = search_weight(y_train,oof_train)"
   ]
  },
  {
   "cell_type": "markdown",
   "metadata": {},
   "source": [
    "#### pred"
   ]
  },
  {
   "cell_type": "code",
   "execution_count": 43,
   "metadata": {
    "ExecuteTime": {
     "end_time": "2020-11-01T05:55:50.098067Z",
     "start_time": "2020-11-01T05:55:50.086065Z"
    }
   },
   "outputs": [],
   "source": [
    "sub = pd.DataFrame()\n",
    "sub['cust_no'] = test_q1.cust_no\n",
    "sub['label'] = (y_pred*weight).argmax(axis=1) - 1"
   ]
  },
  {
   "cell_type": "code",
   "execution_count": 44,
   "metadata": {
    "ExecuteTime": {
     "end_time": "2020-11-01T05:55:56.431486Z",
     "start_time": "2020-11-01T05:55:56.330464Z"
    }
   },
   "outputs": [],
   "source": [
    "sub.to_csv('../sub/2020-11-1-v1.csv',index=False)"
   ]
  },
  {
   "cell_type": "code",
   "execution_count": 45,
   "metadata": {
    "ExecuteTime": {
     "end_time": "2020-11-01T05:55:57.414707Z",
     "start_time": "2020-11-01T05:55:57.408706Z"
    }
   },
   "outputs": [
    {
     "data": {
      "text/plain": [
       "2    92818\n",
       "1    30237\n",
       "0    22241\n",
       "Name: label, dtype: int64"
      ]
     },
     "execution_count": 45,
     "metadata": {},
     "output_type": "execute_result"
    }
   ],
   "source": [
    "y_train.value_counts()"
   ]
  },
  {
   "cell_type": "code",
   "execution_count": 46,
   "metadata": {
    "ExecuteTime": {
     "end_time": "2020-11-01T05:55:58.539959Z",
     "start_time": "2020-11-01T05:55:58.534959Z"
    }
   },
   "outputs": [
    {
     "data": {
      "text/plain": [
       " 1    47483\n",
       " 0    17998\n",
       "-1    11241\n",
       "Name: label, dtype: int64"
      ]
     },
     "execution_count": 46,
     "metadata": {},
     "output_type": "execute_result"
    }
   ],
   "source": [
    "sub.label.value_counts()"
   ]
  },
  {
   "cell_type": "code",
   "execution_count": null,
   "metadata": {},
   "outputs": [],
   "source": []
  }
 ],
 "metadata": {
  "kernelspec": {
   "display_name": "Python 3",
   "language": "python",
   "name": "python3"
  },
  "language_info": {
   "codemirror_mode": {
    "name": "ipython",
    "version": 3
   },
   "file_extension": ".py",
   "mimetype": "text/x-python",
   "name": "python",
   "nbconvert_exporter": "python",
   "pygments_lexer": "ipython3",
   "version": "3.7.2"
  },
  "toc": {
   "base_numbering": 1,
   "nav_menu": {},
   "number_sections": true,
   "sideBar": true,
   "skip_h1_title": false,
   "title_cell": "Table of Contents",
   "title_sidebar": "Contents",
   "toc_cell": false,
   "toc_position": {},
   "toc_section_display": true,
   "toc_window_display": false
  },
  "varInspector": {
   "cols": {
    "lenName": 16,
    "lenType": 16,
    "lenVar": 40
   },
   "kernels_config": {
    "python": {
     "delete_cmd_postfix": "",
     "delete_cmd_prefix": "del ",
     "library": "var_list.py",
     "varRefreshCmd": "print(var_dic_list())"
    },
    "r": {
     "delete_cmd_postfix": ") ",
     "delete_cmd_prefix": "rm(",
     "library": "var_list.r",
     "varRefreshCmd": "cat(var_dic_list()) "
    }
   },
   "types_to_exclude": [
    "module",
    "function",
    "builtin_function_or_method",
    "instance",
    "_Feature"
   ],
   "window_display": false
  }
 },
 "nbformat": 4,
 "nbformat_minor": 2
}
